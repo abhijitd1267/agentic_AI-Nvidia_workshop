{
  "cells": [
    {
      "cell_type": "markdown",
      "id": "707db06e",
      "metadata": {
        "id": "707db06e"
      },
      "source": [
        "# 🚀 NeMo Agent Toolkit (NAT) - Getting Started Tutorial\n",
        "\n",
        "## 📋 Welcome to NAT!\n",
        "This comprehensive tutorial will guide you through building your first AI agent using NVIDIA's NeMo Agent Toolkit (NAT). You'll learn to create intelligent agents that can search the internet, reason about information, and provide helpful responses.\n",
        "\n",
        "## 🎯 What You'll Build\n",
        "By the end of this tutorial, you'll have created:\n",
        "- **A LangChain-based ReAct Agent** that can reason and act\n",
        "- **An Internet Search Agent** using Tavily search API\n",
        "- **A NAT-native Agent** using built-in components\n",
        "- **A Production-ready Agent** with proper configuration\n",
        "\n",
        "## 📚 Prerequisites\n",
        "- Basic Python knowledge\n",
        "- NVIDIA API key ([get one here](https://build.nvidia.com))\n",
        "- Tavily API key ([get one here](https://tavily.com))\n",
        "- Understanding of AI/ML concepts (helpful but not required)\n",
        "\n",
        "---\n"
      ]
    },
    {
      "cell_type": "markdown",
      "id": "564bfd26",
      "metadata": {
        "id": "564bfd26"
      },
      "source": [
        "# 🔧 Step 1: Environment Setup and Installation\n",
        "\n",
        "## Installing Core Dependencies\n",
        "This section installs all the necessary packages for building AI agents with NAT and LangChain integration.\n",
        "\n",
        "### 📦 What We're Installing\n",
        "- **NeMo Agent Toolkit**: Core framework for building AI agents\n",
        "- **LangChain Integration**: Seamless integration with LangChain ecosystem\n",
        "- **NVIDIA AI Endpoints**: Access to NVIDIA's hosted language models\n",
        "- **Sentence Transformers**: For text embeddings and semantic search\n"
      ]
    },
    {
      "cell_type": "code",
      "execution_count": 5,
      "id": "blRdnStgMExV",
      "metadata": {
        "colab": {
          "base_uri": "https://localhost:8080/",
          "height": 1000
        },
        "collapsed": true,
        "id": "blRdnStgMExV",
        "outputId": "d0b545e3-7906-4c07-a247-90285b00a9db"
      },
      "outputs": [
        {
          "output_type": "stream",
          "name": "stdout",
          "text": [
            "Requirement already satisfied: pip in /usr/local/lib/python3.12/dist-packages (25.2)\n",
            "Collecting git+https://github.com/NVIDIA/NeMo-Agent-Toolkit.git\n",
            "  Cloning https://github.com/NVIDIA/NeMo-Agent-Toolkit.git to /tmp/pip-req-build-rarxytjy\n",
            "  Running command git clone --filter=blob:none --quiet https://github.com/NVIDIA/NeMo-Agent-Toolkit.git /tmp/pip-req-build-rarxytjy\n",
            "  Resolved https://github.com/NVIDIA/NeMo-Agent-Toolkit.git to commit 7c809364756ab4a0f98ae7dea19beb3e59fd7795\n",
            "  Running command git submodule update --init --recursive -q\n",
            "  Installing build dependencies ... \u001b[?25l\u001b[?25hdone\n",
            "  Getting requirements to build wheel ... \u001b[?25l\u001b[?25hdone\n",
            "  Preparing metadata (pyproject.toml) ... \u001b[?25l\u001b[?25hdone\n",
            "Requirement already satisfied: aioboto3>=11.0.0 in /usr/local/lib/python3.12/dist-packages (from nvidia-nat==1.4.0.dev2+g7c80936) (15.1.0)\n",
            "Requirement already satisfied: authlib~=1.5 in /usr/local/lib/python3.12/dist-packages (from nvidia-nat==1.4.0.dev2+g7c80936) (1.6.4)\n",
            "Requirement already satisfied: click~=8.1 in /usr/local/lib/python3.12/dist-packages (from nvidia-nat==1.4.0.dev2+g7c80936) (8.2.1)\n",
            "Requirement already satisfied: colorama~=0.4.6 in /usr/local/lib/python3.12/dist-packages (from nvidia-nat==1.4.0.dev2+g7c80936) (0.4.6)\n",
            "Requirement already satisfied: datasets~=4.0 in /usr/local/lib/python3.12/dist-packages (from nvidia-nat==1.4.0.dev2+g7c80936) (4.0.0)\n",
            "Requirement already satisfied: expandvars~=1.0 in /usr/local/lib/python3.12/dist-packages (from nvidia-nat==1.4.0.dev2+g7c80936) (1.1.2)\n",
            "Requirement already satisfied: fastapi~=0.115.5 in /usr/local/lib/python3.12/dist-packages (from nvidia-nat==1.4.0.dev2+g7c80936) (0.115.14)\n",
            "Requirement already satisfied: httpx~=0.27 in /usr/local/lib/python3.12/dist-packages (from nvidia-nat==1.4.0.dev2+g7c80936) (0.28.1)\n",
            "Requirement already satisfied: jinja2~=3.1 in /usr/local/lib/python3.12/dist-packages (from nvidia-nat==1.4.0.dev2+g7c80936) (3.1.6)\n",
            "Requirement already satisfied: jsonpath-ng~=1.7 in /usr/local/lib/python3.12/dist-packages (from nvidia-nat==1.4.0.dev2+g7c80936) (1.7.0)\n",
            "Requirement already satisfied: mcp~=1.13 in /usr/local/lib/python3.12/dist-packages (from nvidia-nat==1.4.0.dev2+g7c80936) (1.14.1)\n",
            "Requirement already satisfied: nest-asyncio~=1.6 in /usr/local/lib/python3.12/dist-packages (from nvidia-nat==1.4.0.dev2+g7c80936) (1.6.0)\n",
            "Requirement already satisfied: networkx~=3.4 in /usr/local/lib/python3.12/dist-packages (from nvidia-nat==1.4.0.dev2+g7c80936) (3.5)\n",
            "Requirement already satisfied: numpy~=2.3 in /usr/local/lib/python3.12/dist-packages (from nvidia-nat==1.4.0.dev2+g7c80936) (2.3.3)\n",
            "Requirement already satisfied: openinference-semantic-conventions~=0.1.14 in /usr/local/lib/python3.12/dist-packages (from nvidia-nat==1.4.0.dev2+g7c80936) (0.1.21)\n",
            "Requirement already satisfied: openpyxl~=3.1 in /usr/local/lib/python3.12/dist-packages (from nvidia-nat==1.4.0.dev2+g7c80936) (3.1.5)\n",
            "Requirement already satisfied: optuna~=4.4.0 in /usr/local/lib/python3.12/dist-packages (from nvidia-nat==1.4.0.dev2+g7c80936) (4.4.0)\n",
            "Requirement already satisfied: pip>=24.3.1 in /usr/local/lib/python3.12/dist-packages (from nvidia-nat==1.4.0.dev2+g7c80936) (25.2)\n",
            "Requirement already satisfied: pkce==1.0.3 in /usr/local/lib/python3.12/dist-packages (from nvidia-nat==1.4.0.dev2+g7c80936) (1.0.3)\n",
            "Requirement already satisfied: pkginfo~=1.12 in /usr/local/lib/python3.12/dist-packages (from nvidia-nat==1.4.0.dev2+g7c80936) (1.12.1.2)\n",
            "Requirement already satisfied: platformdirs~=4.3 in /usr/local/lib/python3.12/dist-packages (from nvidia-nat==1.4.0.dev2+g7c80936) (4.4.0)\n",
            "Requirement already satisfied: pydantic~=2.11 in /usr/local/lib/python3.12/dist-packages (from nvidia-nat==1.4.0.dev2+g7c80936) (2.11.9)\n",
            "Requirement already satisfied: pymilvus~=2.4 in /usr/local/lib/python3.12/dist-packages (from nvidia-nat==1.4.0.dev2+g7c80936) (2.6.2)\n",
            "Requirement already satisfied: PyYAML~=6.0 in /usr/local/lib/python3.12/dist-packages (from nvidia-nat==1.4.0.dev2+g7c80936) (6.0.2)\n",
            "Requirement already satisfied: ragas~=0.2.14 in /usr/local/lib/python3.12/dist-packages (from nvidia-nat==1.4.0.dev2+g7c80936) (0.2.15)\n",
            "Requirement already satisfied: rich~=13.9 in /usr/local/lib/python3.12/dist-packages (from nvidia-nat==1.4.0.dev2+g7c80936) (13.9.4)\n",
            "Requirement already satisfied: tabulate~=0.9 in /usr/local/lib/python3.12/dist-packages (from nvidia-nat==1.4.0.dev2+g7c80936) (0.9.0)\n",
            "Requirement already satisfied: uvicorn~=0.34 in /usr/local/lib/python3.12/dist-packages (from uvicorn[standard]~=0.34->nvidia-nat==1.4.0.dev2+g7c80936) (0.35.0)\n",
            "Requirement already satisfied: wikipedia~=1.4 in /usr/local/lib/python3.12/dist-packages (from nvidia-nat==1.4.0.dev2+g7c80936) (1.4.0)\n",
            "Requirement already satisfied: cryptography in /usr/local/lib/python3.12/dist-packages (from authlib~=1.5->nvidia-nat==1.4.0.dev2+g7c80936) (43.0.3)\n",
            "Requirement already satisfied: filelock in /usr/local/lib/python3.12/dist-packages (from datasets~=4.0->nvidia-nat==1.4.0.dev2+g7c80936) (3.19.1)\n",
            "Requirement already satisfied: pyarrow>=15.0.0 in /usr/local/lib/python3.12/dist-packages (from datasets~=4.0->nvidia-nat==1.4.0.dev2+g7c80936) (18.1.0)\n",
            "Requirement already satisfied: dill<0.3.9,>=0.3.0 in /usr/local/lib/python3.12/dist-packages (from datasets~=4.0->nvidia-nat==1.4.0.dev2+g7c80936) (0.3.8)\n",
            "Requirement already satisfied: pandas in /usr/local/lib/python3.12/dist-packages (from datasets~=4.0->nvidia-nat==1.4.0.dev2+g7c80936) (2.2.2)\n",
            "Requirement already satisfied: requests>=2.32.2 in /usr/local/lib/python3.12/dist-packages (from datasets~=4.0->nvidia-nat==1.4.0.dev2+g7c80936) (2.32.5)\n",
            "Requirement already satisfied: tqdm>=4.66.3 in /usr/local/lib/python3.12/dist-packages (from datasets~=4.0->nvidia-nat==1.4.0.dev2+g7c80936) (4.67.1)\n",
            "Requirement already satisfied: xxhash in /usr/local/lib/python3.12/dist-packages (from datasets~=4.0->nvidia-nat==1.4.0.dev2+g7c80936) (3.5.0)\n",
            "Requirement already satisfied: multiprocess<0.70.17 in /usr/local/lib/python3.12/dist-packages (from datasets~=4.0->nvidia-nat==1.4.0.dev2+g7c80936) (0.70.16)\n",
            "Requirement already satisfied: fsspec<=2025.3.0,>=2023.1.0 in /usr/local/lib/python3.12/dist-packages (from fsspec[http]<=2025.3.0,>=2023.1.0->datasets~=4.0->nvidia-nat==1.4.0.dev2+g7c80936) (2025.3.0)\n",
            "Requirement already satisfied: huggingface-hub>=0.24.0 in /usr/local/lib/python3.12/dist-packages (from datasets~=4.0->nvidia-nat==1.4.0.dev2+g7c80936) (0.35.0)\n",
            "Requirement already satisfied: packaging in /usr/local/lib/python3.12/dist-packages (from datasets~=4.0->nvidia-nat==1.4.0.dev2+g7c80936) (25.0)\n",
            "Requirement already satisfied: starlette<0.47.0,>=0.40.0 in /usr/local/lib/python3.12/dist-packages (from fastapi~=0.115.5->nvidia-nat==1.4.0.dev2+g7c80936) (0.46.2)\n",
            "Requirement already satisfied: typing-extensions>=4.8.0 in /usr/local/lib/python3.12/dist-packages (from fastapi~=0.115.5->nvidia-nat==1.4.0.dev2+g7c80936) (4.15.0)\n",
            "Requirement already satisfied: aiohttp!=4.0.0a0,!=4.0.0a1 in /usr/local/lib/python3.12/dist-packages (from fsspec[http]<=2025.3.0,>=2023.1.0->datasets~=4.0->nvidia-nat==1.4.0.dev2+g7c80936) (3.12.15)\n",
            "Requirement already satisfied: anyio in /usr/local/lib/python3.12/dist-packages (from httpx~=0.27->nvidia-nat==1.4.0.dev2+g7c80936) (4.10.0)\n",
            "Requirement already satisfied: certifi in /usr/local/lib/python3.12/dist-packages (from httpx~=0.27->nvidia-nat==1.4.0.dev2+g7c80936) (2025.8.3)\n",
            "Requirement already satisfied: httpcore==1.* in /usr/local/lib/python3.12/dist-packages (from httpx~=0.27->nvidia-nat==1.4.0.dev2+g7c80936) (1.0.9)\n",
            "Requirement already satisfied: idna in /usr/local/lib/python3.12/dist-packages (from httpx~=0.27->nvidia-nat==1.4.0.dev2+g7c80936) (3.10)\n",
            "Requirement already satisfied: h11>=0.16 in /usr/local/lib/python3.12/dist-packages (from httpcore==1.*->httpx~=0.27->nvidia-nat==1.4.0.dev2+g7c80936) (0.16.0)\n",
            "Requirement already satisfied: MarkupSafe>=2.0 in /usr/local/lib/python3.12/dist-packages (from jinja2~=3.1->nvidia-nat==1.4.0.dev2+g7c80936) (3.0.2)\n",
            "Requirement already satisfied: ply in /usr/local/lib/python3.12/dist-packages (from jsonpath-ng~=1.7->nvidia-nat==1.4.0.dev2+g7c80936) (3.11)\n",
            "Requirement already satisfied: httpx-sse>=0.4 in /usr/local/lib/python3.12/dist-packages (from mcp~=1.13->nvidia-nat==1.4.0.dev2+g7c80936) (0.4.1)\n",
            "Requirement already satisfied: jsonschema>=4.20.0 in /usr/local/lib/python3.12/dist-packages (from mcp~=1.13->nvidia-nat==1.4.0.dev2+g7c80936) (4.25.1)\n",
            "Requirement already satisfied: pydantic-settings>=2.5.2 in /usr/local/lib/python3.12/dist-packages (from mcp~=1.13->nvidia-nat==1.4.0.dev2+g7c80936) (2.10.1)\n",
            "Requirement already satisfied: python-multipart>=0.0.9 in /usr/local/lib/python3.12/dist-packages (from mcp~=1.13->nvidia-nat==1.4.0.dev2+g7c80936) (0.0.20)\n",
            "Requirement already satisfied: sse-starlette>=1.6.1 in /usr/local/lib/python3.12/dist-packages (from mcp~=1.13->nvidia-nat==1.4.0.dev2+g7c80936) (3.0.2)\n",
            "Requirement already satisfied: et-xmlfile in /usr/local/lib/python3.12/dist-packages (from openpyxl~=3.1->nvidia-nat==1.4.0.dev2+g7c80936) (2.0.0)\n",
            "Requirement already satisfied: alembic>=1.5.0 in /usr/local/lib/python3.12/dist-packages (from optuna~=4.4.0->nvidia-nat==1.4.0.dev2+g7c80936) (1.16.5)\n",
            "Requirement already satisfied: colorlog in /usr/local/lib/python3.12/dist-packages (from optuna~=4.4.0->nvidia-nat==1.4.0.dev2+g7c80936) (6.9.0)\n",
            "Requirement already satisfied: sqlalchemy>=1.4.2 in /usr/local/lib/python3.12/dist-packages (from optuna~=4.4.0->nvidia-nat==1.4.0.dev2+g7c80936) (2.0.43)\n",
            "Requirement already satisfied: annotated-types>=0.6.0 in /usr/local/lib/python3.12/dist-packages (from pydantic~=2.11->nvidia-nat==1.4.0.dev2+g7c80936) (0.7.0)\n",
            "Requirement already satisfied: pydantic-core==2.33.2 in /usr/local/lib/python3.12/dist-packages (from pydantic~=2.11->nvidia-nat==1.4.0.dev2+g7c80936) (2.33.2)\n",
            "Requirement already satisfied: typing-inspection>=0.4.0 in /usr/local/lib/python3.12/dist-packages (from pydantic~=2.11->nvidia-nat==1.4.0.dev2+g7c80936) (0.4.1)\n",
            "Requirement already satisfied: setuptools>69 in /usr/local/lib/python3.12/dist-packages (from pymilvus~=2.4->nvidia-nat==1.4.0.dev2+g7c80936) (75.2.0)\n",
            "Requirement already satisfied: grpcio!=1.68.0,!=1.68.1,!=1.69.0,!=1.70.0,!=1.70.1,!=1.71.0,!=1.72.1,!=1.73.0,>=1.66.2 in /usr/local/lib/python3.12/dist-packages (from pymilvus~=2.4->nvidia-nat==1.4.0.dev2+g7c80936) (1.75.0)\n",
            "Requirement already satisfied: protobuf>=5.27.2 in /usr/local/lib/python3.12/dist-packages (from pymilvus~=2.4->nvidia-nat==1.4.0.dev2+g7c80936) (5.29.5)\n",
            "Requirement already satisfied: python-dotenv<2.0.0,>=1.0.1 in /usr/local/lib/python3.12/dist-packages (from pymilvus~=2.4->nvidia-nat==1.4.0.dev2+g7c80936) (1.1.1)\n",
            "Requirement already satisfied: ujson>=2.0.0 in /usr/local/lib/python3.12/dist-packages (from pymilvus~=2.4->nvidia-nat==1.4.0.dev2+g7c80936) (5.11.0)\n",
            "Requirement already satisfied: tiktoken in /usr/local/lib/python3.12/dist-packages (from ragas~=0.2.14->nvidia-nat==1.4.0.dev2+g7c80936) (0.11.0)\n",
            "Requirement already satisfied: langchain in /usr/local/lib/python3.12/dist-packages (from ragas~=0.2.14->nvidia-nat==1.4.0.dev2+g7c80936) (0.3.27)\n",
            "Requirement already satisfied: langchain-core in /usr/local/lib/python3.12/dist-packages (from ragas~=0.2.14->nvidia-nat==1.4.0.dev2+g7c80936) (0.3.77)\n",
            "Requirement already satisfied: langchain-community in /usr/local/lib/python3.12/dist-packages (from ragas~=0.2.14->nvidia-nat==1.4.0.dev2+g7c80936) (0.3.30)\n",
            "Requirement already satisfied: langchain_openai in /usr/local/lib/python3.12/dist-packages (from ragas~=0.2.14->nvidia-nat==1.4.0.dev2+g7c80936) (0.3.34)\n",
            "Requirement already satisfied: appdirs in /usr/local/lib/python3.12/dist-packages (from ragas~=0.2.14->nvidia-nat==1.4.0.dev2+g7c80936) (1.4.4)\n",
            "Requirement already satisfied: openai>1 in /usr/local/lib/python3.12/dist-packages (from ragas~=0.2.14->nvidia-nat==1.4.0.dev2+g7c80936) (1.108.0)\n",
            "Requirement already satisfied: diskcache>=5.6.3 in /usr/local/lib/python3.12/dist-packages (from ragas~=0.2.14->nvidia-nat==1.4.0.dev2+g7c80936) (5.6.3)\n",
            "Requirement already satisfied: markdown-it-py>=2.2.0 in /usr/local/lib/python3.12/dist-packages (from rich~=13.9->nvidia-nat==1.4.0.dev2+g7c80936) (4.0.0)\n",
            "Requirement already satisfied: pygments<3.0.0,>=2.13.0 in /usr/local/lib/python3.12/dist-packages (from rich~=13.9->nvidia-nat==1.4.0.dev2+g7c80936) (2.19.2)\n",
            "Requirement already satisfied: sniffio>=1.1 in /usr/local/lib/python3.12/dist-packages (from anyio->httpx~=0.27->nvidia-nat==1.4.0.dev2+g7c80936) (1.3.1)\n",
            "Requirement already satisfied: httptools>=0.6.3 in /usr/local/lib/python3.12/dist-packages (from uvicorn[standard]~=0.34->nvidia-nat==1.4.0.dev2+g7c80936) (0.6.4)\n",
            "Requirement already satisfied: uvloop>=0.15.1 in /usr/local/lib/python3.12/dist-packages (from uvicorn[standard]~=0.34->nvidia-nat==1.4.0.dev2+g7c80936) (0.21.0)\n",
            "Requirement already satisfied: watchfiles>=0.13 in /usr/local/lib/python3.12/dist-packages (from uvicorn[standard]~=0.34->nvidia-nat==1.4.0.dev2+g7c80936) (1.1.0)\n",
            "Requirement already satisfied: websockets>=10.4 in /usr/local/lib/python3.12/dist-packages (from uvicorn[standard]~=0.34->nvidia-nat==1.4.0.dev2+g7c80936) (15.0.1)\n",
            "Requirement already satisfied: beautifulsoup4 in /usr/local/lib/python3.12/dist-packages (from wikipedia~=1.4->nvidia-nat==1.4.0.dev2+g7c80936) (4.13.5)\n",
            "Requirement already satisfied: charset_normalizer<4,>=2 in /usr/local/lib/python3.12/dist-packages (from requests>=2.32.2->datasets~=4.0->nvidia-nat==1.4.0.dev2+g7c80936) (3.4.3)\n",
            "Requirement already satisfied: urllib3<3,>=1.21.1 in /usr/local/lib/python3.12/dist-packages (from requests>=2.32.2->datasets~=4.0->nvidia-nat==1.4.0.dev2+g7c80936) (2.5.0)\n",
            "Requirement already satisfied: aiobotocore==2.24.0 in /usr/local/lib/python3.12/dist-packages (from aiobotocore[boto3]==2.24.0->aioboto3>=11.0.0->nvidia-nat==1.4.0.dev2+g7c80936) (2.24.0)\n",
            "Requirement already satisfied: aiofiles>=23.2.1 in /usr/local/lib/python3.12/dist-packages (from aioboto3>=11.0.0->nvidia-nat==1.4.0.dev2+g7c80936) (24.1.0)\n",
            "Requirement already satisfied: aioitertools<1.0.0,>=0.5.1 in /usr/local/lib/python3.12/dist-packages (from aiobotocore==2.24.0->aiobotocore[boto3]==2.24.0->aioboto3>=11.0.0->nvidia-nat==1.4.0.dev2+g7c80936) (0.12.0)\n",
            "Requirement already satisfied: botocore<1.39.12,>=1.39.9 in /usr/local/lib/python3.12/dist-packages (from aiobotocore==2.24.0->aiobotocore[boto3]==2.24.0->aioboto3>=11.0.0->nvidia-nat==1.4.0.dev2+g7c80936) (1.39.11)\n",
            "Requirement already satisfied: python-dateutil<3.0.0,>=2.1 in /usr/local/lib/python3.12/dist-packages (from aiobotocore==2.24.0->aiobotocore[boto3]==2.24.0->aioboto3>=11.0.0->nvidia-nat==1.4.0.dev2+g7c80936) (2.9.0.post0)\n",
            "Requirement already satisfied: jmespath<2.0.0,>=0.7.1 in /usr/local/lib/python3.12/dist-packages (from aiobotocore==2.24.0->aiobotocore[boto3]==2.24.0->aioboto3>=11.0.0->nvidia-nat==1.4.0.dev2+g7c80936) (1.0.1)\n",
            "Requirement already satisfied: multidict<7.0.0,>=6.0.0 in /usr/local/lib/python3.12/dist-packages (from aiobotocore==2.24.0->aiobotocore[boto3]==2.24.0->aioboto3>=11.0.0->nvidia-nat==1.4.0.dev2+g7c80936) (6.6.4)\n",
            "Requirement already satisfied: wrapt<2.0.0,>=1.10.10 in /usr/local/lib/python3.12/dist-packages (from aiobotocore==2.24.0->aiobotocore[boto3]==2.24.0->aioboto3>=11.0.0->nvidia-nat==1.4.0.dev2+g7c80936) (1.17.3)\n",
            "Requirement already satisfied: boto3<1.39.12,>=1.39.9 in /usr/local/lib/python3.12/dist-packages (from aiobotocore[boto3]==2.24.0->aioboto3>=11.0.0->nvidia-nat==1.4.0.dev2+g7c80936) (1.39.11)\n",
            "Requirement already satisfied: aiohappyeyeballs>=2.5.0 in /usr/local/lib/python3.12/dist-packages (from aiohttp!=4.0.0a0,!=4.0.0a1->fsspec[http]<=2025.3.0,>=2023.1.0->datasets~=4.0->nvidia-nat==1.4.0.dev2+g7c80936) (2.6.1)\n",
            "Requirement already satisfied: aiosignal>=1.4.0 in /usr/local/lib/python3.12/dist-packages (from aiohttp!=4.0.0a0,!=4.0.0a1->fsspec[http]<=2025.3.0,>=2023.1.0->datasets~=4.0->nvidia-nat==1.4.0.dev2+g7c80936) (1.4.0)\n",
            "Requirement already satisfied: attrs>=17.3.0 in /usr/local/lib/python3.12/dist-packages (from aiohttp!=4.0.0a0,!=4.0.0a1->fsspec[http]<=2025.3.0,>=2023.1.0->datasets~=4.0->nvidia-nat==1.4.0.dev2+g7c80936) (25.3.0)\n",
            "Requirement already satisfied: frozenlist>=1.1.1 in /usr/local/lib/python3.12/dist-packages (from aiohttp!=4.0.0a0,!=4.0.0a1->fsspec[http]<=2025.3.0,>=2023.1.0->datasets~=4.0->nvidia-nat==1.4.0.dev2+g7c80936) (1.7.0)\n",
            "Requirement already satisfied: propcache>=0.2.0 in /usr/local/lib/python3.12/dist-packages (from aiohttp!=4.0.0a0,!=4.0.0a1->fsspec[http]<=2025.3.0,>=2023.1.0->datasets~=4.0->nvidia-nat==1.4.0.dev2+g7c80936) (0.3.2)\n",
            "Requirement already satisfied: yarl<2.0,>=1.17.0 in /usr/local/lib/python3.12/dist-packages (from aiohttp!=4.0.0a0,!=4.0.0a1->fsspec[http]<=2025.3.0,>=2023.1.0->datasets~=4.0->nvidia-nat==1.4.0.dev2+g7c80936) (1.20.1)\n",
            "Requirement already satisfied: s3transfer<0.14.0,>=0.13.0 in /usr/local/lib/python3.12/dist-packages (from boto3<1.39.12,>=1.39.9->aiobotocore[boto3]==2.24.0->aioboto3>=11.0.0->nvidia-nat==1.4.0.dev2+g7c80936) (0.13.1)\n",
            "Requirement already satisfied: six>=1.5 in /usr/local/lib/python3.12/dist-packages (from python-dateutil<3.0.0,>=2.1->aiobotocore==2.24.0->aiobotocore[boto3]==2.24.0->aioboto3>=11.0.0->nvidia-nat==1.4.0.dev2+g7c80936) (1.17.0)\n",
            "Requirement already satisfied: Mako in /usr/local/lib/python3.12/dist-packages (from alembic>=1.5.0->optuna~=4.4.0->nvidia-nat==1.4.0.dev2+g7c80936) (1.3.10)\n",
            "Requirement already satisfied: hf-xet<2.0.0,>=1.1.3 in /usr/local/lib/python3.12/dist-packages (from huggingface-hub>=0.24.0->datasets~=4.0->nvidia-nat==1.4.0.dev2+g7c80936) (1.1.10)\n",
            "Requirement already satisfied: jsonschema-specifications>=2023.03.6 in /usr/local/lib/python3.12/dist-packages (from jsonschema>=4.20.0->mcp~=1.13->nvidia-nat==1.4.0.dev2+g7c80936) (2025.9.1)\n",
            "Requirement already satisfied: referencing>=0.28.4 in /usr/local/lib/python3.12/dist-packages (from jsonschema>=4.20.0->mcp~=1.13->nvidia-nat==1.4.0.dev2+g7c80936) (0.36.2)\n",
            "Requirement already satisfied: rpds-py>=0.7.1 in /usr/local/lib/python3.12/dist-packages (from jsonschema>=4.20.0->mcp~=1.13->nvidia-nat==1.4.0.dev2+g7c80936) (0.27.1)\n",
            "Requirement already satisfied: mdurl~=0.1 in /usr/local/lib/python3.12/dist-packages (from markdown-it-py>=2.2.0->rich~=13.9->nvidia-nat==1.4.0.dev2+g7c80936) (0.1.2)\n",
            "Requirement already satisfied: distro<2,>=1.7.0 in /usr/local/lib/python3.12/dist-packages (from openai>1->ragas~=0.2.14->nvidia-nat==1.4.0.dev2+g7c80936) (1.9.0)\n",
            "Requirement already satisfied: jiter<1,>=0.4.0 in /usr/local/lib/python3.12/dist-packages (from openai>1->ragas~=0.2.14->nvidia-nat==1.4.0.dev2+g7c80936) (0.11.0)\n",
            "Requirement already satisfied: pytz>=2020.1 in /usr/local/lib/python3.12/dist-packages (from pandas->datasets~=4.0->nvidia-nat==1.4.0.dev2+g7c80936) (2025.2)\n",
            "Requirement already satisfied: tzdata>=2022.7 in /usr/local/lib/python3.12/dist-packages (from pandas->datasets~=4.0->nvidia-nat==1.4.0.dev2+g7c80936) (2025.2)\n",
            "Requirement already satisfied: greenlet>=1 in /usr/local/lib/python3.12/dist-packages (from sqlalchemy>=1.4.2->optuna~=4.4.0->nvidia-nat==1.4.0.dev2+g7c80936) (3.2.4)\n",
            "Requirement already satisfied: soupsieve>1.2 in /usr/local/lib/python3.12/dist-packages (from beautifulsoup4->wikipedia~=1.4->nvidia-nat==1.4.0.dev2+g7c80936) (2.8)\n",
            "Requirement already satisfied: cffi>=1.12 in /usr/local/lib/python3.12/dist-packages (from cryptography->authlib~=1.5->nvidia-nat==1.4.0.dev2+g7c80936) (2.0.0)\n",
            "Requirement already satisfied: pycparser in /usr/local/lib/python3.12/dist-packages (from cffi>=1.12->cryptography->authlib~=1.5->nvidia-nat==1.4.0.dev2+g7c80936) (2.23)\n",
            "Requirement already satisfied: langchain-text-splitters<1.0.0,>=0.3.9 in /usr/local/lib/python3.12/dist-packages (from langchain->ragas~=0.2.14->nvidia-nat==1.4.0.dev2+g7c80936) (0.3.11)\n",
            "Requirement already satisfied: langsmith>=0.1.17 in /usr/local/lib/python3.12/dist-packages (from langchain->ragas~=0.2.14->nvidia-nat==1.4.0.dev2+g7c80936) (0.4.28)\n",
            "Requirement already satisfied: tenacity!=8.4.0,<10.0.0,>=8.1.0 in /usr/local/lib/python3.12/dist-packages (from langchain-core->ragas~=0.2.14->nvidia-nat==1.4.0.dev2+g7c80936) (8.5.0)\n",
            "Requirement already satisfied: jsonpatch<2.0.0,>=1.33.0 in /usr/local/lib/python3.12/dist-packages (from langchain-core->ragas~=0.2.14->nvidia-nat==1.4.0.dev2+g7c80936) (1.33)\n",
            "Requirement already satisfied: jsonpointer>=1.9 in /usr/local/lib/python3.12/dist-packages (from jsonpatch<2.0.0,>=1.33.0->langchain-core->ragas~=0.2.14->nvidia-nat==1.4.0.dev2+g7c80936) (3.0.0)\n",
            "Requirement already satisfied: orjson>=3.9.14 in /usr/local/lib/python3.12/dist-packages (from langsmith>=0.1.17->langchain->ragas~=0.2.14->nvidia-nat==1.4.0.dev2+g7c80936) (3.11.3)\n",
            "Requirement already satisfied: requests-toolbelt>=1.0.0 in /usr/local/lib/python3.12/dist-packages (from langsmith>=0.1.17->langchain->ragas~=0.2.14->nvidia-nat==1.4.0.dev2+g7c80936) (1.0.0)\n",
            "Requirement already satisfied: zstandard>=0.23.0 in /usr/local/lib/python3.12/dist-packages (from langsmith>=0.1.17->langchain->ragas~=0.2.14->nvidia-nat==1.4.0.dev2+g7c80936) (0.25.0)\n",
            "Requirement already satisfied: dataclasses-json<0.7.0,>=0.6.7 in /usr/local/lib/python3.12/dist-packages (from langchain-community->ragas~=0.2.14->nvidia-nat==1.4.0.dev2+g7c80936) (0.6.7)\n",
            "Requirement already satisfied: marshmallow<4.0.0,>=3.18.0 in /usr/local/lib/python3.12/dist-packages (from dataclasses-json<0.7.0,>=0.6.7->langchain-community->ragas~=0.2.14->nvidia-nat==1.4.0.dev2+g7c80936) (3.26.1)\n",
            "Requirement already satisfied: typing-inspect<1,>=0.4.0 in /usr/local/lib/python3.12/dist-packages (from dataclasses-json<0.7.0,>=0.6.7->langchain-community->ragas~=0.2.14->nvidia-nat==1.4.0.dev2+g7c80936) (0.9.0)\n",
            "Requirement already satisfied: mypy-extensions>=0.3.0 in /usr/local/lib/python3.12/dist-packages (from typing-inspect<1,>=0.4.0->dataclasses-json<0.7.0,>=0.6.7->langchain-community->ragas~=0.2.14->nvidia-nat==1.4.0.dev2+g7c80936) (1.1.0)\n",
            "Requirement already satisfied: regex>=2022.1.18 in /usr/local/lib/python3.12/dist-packages (from tiktoken->ragas~=0.2.14->nvidia-nat==1.4.0.dev2+g7c80936) (2024.11.6)\n",
            "Collecting aiqtoolkit-langchain\n",
            "  Using cached aiqtoolkit_langchain-1.2.1-py3-none-any.whl.metadata (1.4 kB)\n",
            "Collecting langchain-nvidia-ai-endpoints\n",
            "  Using cached langchain_nvidia_ai_endpoints-0.3.18-py3-none-any.whl.metadata (11 kB)\n",
            "Requirement already satisfied: sentence-transformers in /usr/local/lib/python3.12/dist-packages (5.1.0)\n",
            "Collecting nvidia-nat==v1.2.1 (from nvidia-nat[langchain]==v1.2.1->aiqtoolkit-langchain)\n",
            "  Using cached nvidia_nat-1.2.1-py3-none-any.whl.metadata (21 kB)\n",
            "Requirement already satisfied: aioboto3>=11.0.0 in /usr/local/lib/python3.12/dist-packages (from nvidia-nat==v1.2.1->nvidia-nat[langchain]==v1.2.1->aiqtoolkit-langchain) (15.1.0)\n",
            "Collecting authlib~=1.3.1 (from nvidia-nat==v1.2.1->nvidia-nat[langchain]==v1.2.1->aiqtoolkit-langchain)\n",
            "  Using cached Authlib-1.3.2-py2.py3-none-any.whl.metadata (3.9 kB)\n",
            "Requirement already satisfied: click~=8.1 in /usr/local/lib/python3.12/dist-packages (from nvidia-nat==v1.2.1->nvidia-nat[langchain]==v1.2.1->aiqtoolkit-langchain) (8.2.1)\n",
            "Requirement already satisfied: colorama~=0.4.6 in /usr/local/lib/python3.12/dist-packages (from nvidia-nat==v1.2.1->nvidia-nat[langchain]==v1.2.1->aiqtoolkit-langchain) (0.4.6)\n",
            "Requirement already satisfied: datasets~=4.0 in /usr/local/lib/python3.12/dist-packages (from nvidia-nat==v1.2.1->nvidia-nat[langchain]==v1.2.1->aiqtoolkit-langchain) (4.0.0)\n",
            "Requirement already satisfied: expandvars~=1.0 in /usr/local/lib/python3.12/dist-packages (from nvidia-nat==v1.2.1->nvidia-nat[langchain]==v1.2.1->aiqtoolkit-langchain) (1.1.2)\n",
            "Requirement already satisfied: fastapi~=0.115.5 in /usr/local/lib/python3.12/dist-packages (from nvidia-nat==v1.2.1->nvidia-nat[langchain]==v1.2.1->aiqtoolkit-langchain) (0.115.14)\n",
            "Requirement already satisfied: httpx~=0.27 in /usr/local/lib/python3.12/dist-packages (from nvidia-nat==v1.2.1->nvidia-nat[langchain]==v1.2.1->aiqtoolkit-langchain) (0.28.1)\n",
            "Requirement already satisfied: jinja2~=3.1 in /usr/local/lib/python3.12/dist-packages (from nvidia-nat==v1.2.1->nvidia-nat[langchain]==v1.2.1->aiqtoolkit-langchain) (3.1.6)\n",
            "Requirement already satisfied: jsonpath-ng~=1.7 in /usr/local/lib/python3.12/dist-packages (from nvidia-nat==v1.2.1->nvidia-nat[langchain]==v1.2.1->aiqtoolkit-langchain) (1.7.0)\n",
            "Requirement already satisfied: mcp~=1.10 in /usr/local/lib/python3.12/dist-packages (from nvidia-nat==v1.2.1->nvidia-nat[langchain]==v1.2.1->aiqtoolkit-langchain) (1.14.1)\n",
            "Requirement already satisfied: networkx~=3.4 in /usr/local/lib/python3.12/dist-packages (from nvidia-nat==v1.2.1->nvidia-nat[langchain]==v1.2.1->aiqtoolkit-langchain) (3.5)\n",
            "Collecting numpy~=1.26 (from nvidia-nat==v1.2.1->nvidia-nat[langchain]==v1.2.1->aiqtoolkit-langchain)\n",
            "  Using cached numpy-1.26.4-cp312-cp312-manylinux_2_17_x86_64.manylinux2014_x86_64.whl.metadata (61 kB)\n",
            "Requirement already satisfied: openinference-semantic-conventions~=0.1.14 in /usr/local/lib/python3.12/dist-packages (from nvidia-nat==v1.2.1->nvidia-nat[langchain]==v1.2.1->aiqtoolkit-langchain) (0.1.21)\n",
            "Requirement already satisfied: openpyxl~=3.1 in /usr/local/lib/python3.12/dist-packages (from nvidia-nat==v1.2.1->nvidia-nat[langchain]==v1.2.1->aiqtoolkit-langchain) (3.1.5)\n",
            "Requirement already satisfied: pkce==1.0.3 in /usr/local/lib/python3.12/dist-packages (from nvidia-nat==v1.2.1->nvidia-nat[langchain]==v1.2.1->aiqtoolkit-langchain) (1.0.3)\n",
            "Requirement already satisfied: pkginfo~=1.12 in /usr/local/lib/python3.12/dist-packages (from nvidia-nat==v1.2.1->nvidia-nat[langchain]==v1.2.1->aiqtoolkit-langchain) (1.12.1.2)\n",
            "Requirement already satisfied: platformdirs~=4.3 in /usr/local/lib/python3.12/dist-packages (from nvidia-nat==v1.2.1->nvidia-nat[langchain]==v1.2.1->aiqtoolkit-langchain) (4.4.0)\n",
            "Collecting pydantic==2.10.* (from nvidia-nat==v1.2.1->nvidia-nat[langchain]==v1.2.1->aiqtoolkit-langchain)\n",
            "  Using cached pydantic-2.10.6-py3-none-any.whl.metadata (30 kB)\n",
            "Requirement already satisfied: pymilvus~=2.4 in /usr/local/lib/python3.12/dist-packages (from nvidia-nat==v1.2.1->nvidia-nat[langchain]==v1.2.1->aiqtoolkit-langchain) (2.6.2)\n",
            "Requirement already satisfied: PyYAML~=6.0 in /usr/local/lib/python3.12/dist-packages (from nvidia-nat==v1.2.1->nvidia-nat[langchain]==v1.2.1->aiqtoolkit-langchain) (6.0.2)\n",
            "Requirement already satisfied: ragas~=0.2.14 in /usr/local/lib/python3.12/dist-packages (from nvidia-nat==v1.2.1->nvidia-nat[langchain]==v1.2.1->aiqtoolkit-langchain) (0.2.15)\n",
            "Requirement already satisfied: rich~=13.9 in /usr/local/lib/python3.12/dist-packages (from nvidia-nat==v1.2.1->nvidia-nat[langchain]==v1.2.1->aiqtoolkit-langchain) (13.9.4)\n",
            "Requirement already satisfied: tabulate~=0.9 in /usr/local/lib/python3.12/dist-packages (from nvidia-nat==v1.2.1->nvidia-nat[langchain]==v1.2.1->aiqtoolkit-langchain) (0.9.0)\n",
            "Collecting uvicorn~=0.32.0 (from uvicorn[standard]~=0.32.0->nvidia-nat==v1.2.1->nvidia-nat[langchain]==v1.2.1->aiqtoolkit-langchain)\n",
            "  Using cached uvicorn-0.32.1-py3-none-any.whl.metadata (6.6 kB)\n",
            "Requirement already satisfied: wikipedia~=1.4 in /usr/local/lib/python3.12/dist-packages (from nvidia-nat==v1.2.1->nvidia-nat[langchain]==v1.2.1->aiqtoolkit-langchain) (1.4.0)\n",
            "Collecting nvidia-nat-langchain (from nvidia-nat[langchain]==v1.2.1->aiqtoolkit-langchain)\n",
            "  Using cached nvidia_nat_langchain-1.2.1-py3-none-any.whl.metadata (1.7 kB)\n",
            "Requirement already satisfied: cryptography in /usr/local/lib/python3.12/dist-packages (from authlib~=1.3.1->nvidia-nat==v1.2.1->nvidia-nat[langchain]==v1.2.1->aiqtoolkit-langchain) (43.0.3)\n",
            "Requirement already satisfied: filelock in /usr/local/lib/python3.12/dist-packages (from datasets~=4.0->nvidia-nat==v1.2.1->nvidia-nat[langchain]==v1.2.1->aiqtoolkit-langchain) (3.19.1)\n",
            "Requirement already satisfied: pyarrow>=15.0.0 in /usr/local/lib/python3.12/dist-packages (from datasets~=4.0->nvidia-nat==v1.2.1->nvidia-nat[langchain]==v1.2.1->aiqtoolkit-langchain) (18.1.0)\n",
            "Requirement already satisfied: dill<0.3.9,>=0.3.0 in /usr/local/lib/python3.12/dist-packages (from datasets~=4.0->nvidia-nat==v1.2.1->nvidia-nat[langchain]==v1.2.1->aiqtoolkit-langchain) (0.3.8)\n",
            "Requirement already satisfied: pandas in /usr/local/lib/python3.12/dist-packages (from datasets~=4.0->nvidia-nat==v1.2.1->nvidia-nat[langchain]==v1.2.1->aiqtoolkit-langchain) (2.2.2)\n",
            "Requirement already satisfied: requests>=2.32.2 in /usr/local/lib/python3.12/dist-packages (from datasets~=4.0->nvidia-nat==v1.2.1->nvidia-nat[langchain]==v1.2.1->aiqtoolkit-langchain) (2.32.5)\n",
            "Requirement already satisfied: tqdm>=4.66.3 in /usr/local/lib/python3.12/dist-packages (from datasets~=4.0->nvidia-nat==v1.2.1->nvidia-nat[langchain]==v1.2.1->aiqtoolkit-langchain) (4.67.1)\n",
            "Requirement already satisfied: xxhash in /usr/local/lib/python3.12/dist-packages (from datasets~=4.0->nvidia-nat==v1.2.1->nvidia-nat[langchain]==v1.2.1->aiqtoolkit-langchain) (3.5.0)\n",
            "Requirement already satisfied: multiprocess<0.70.17 in /usr/local/lib/python3.12/dist-packages (from datasets~=4.0->nvidia-nat==v1.2.1->nvidia-nat[langchain]==v1.2.1->aiqtoolkit-langchain) (0.70.16)\n",
            "Requirement already satisfied: fsspec<=2025.3.0,>=2023.1.0 in /usr/local/lib/python3.12/dist-packages (from fsspec[http]<=2025.3.0,>=2023.1.0->datasets~=4.0->nvidia-nat==v1.2.1->nvidia-nat[langchain]==v1.2.1->aiqtoolkit-langchain) (2025.3.0)\n",
            "Requirement already satisfied: huggingface-hub>=0.24.0 in /usr/local/lib/python3.12/dist-packages (from datasets~=4.0->nvidia-nat==v1.2.1->nvidia-nat[langchain]==v1.2.1->aiqtoolkit-langchain) (0.35.0)\n",
            "Requirement already satisfied: packaging in /usr/local/lib/python3.12/dist-packages (from datasets~=4.0->nvidia-nat==v1.2.1->nvidia-nat[langchain]==v1.2.1->aiqtoolkit-langchain) (25.0)\n",
            "Requirement already satisfied: starlette<0.47.0,>=0.40.0 in /usr/local/lib/python3.12/dist-packages (from fastapi~=0.115.5->nvidia-nat==v1.2.1->nvidia-nat[langchain]==v1.2.1->aiqtoolkit-langchain) (0.46.2)\n",
            "Requirement already satisfied: typing-extensions>=4.8.0 in /usr/local/lib/python3.12/dist-packages (from fastapi~=0.115.5->nvidia-nat==v1.2.1->nvidia-nat[langchain]==v1.2.1->aiqtoolkit-langchain) (4.15.0)\n",
            "Requirement already satisfied: aiohttp!=4.0.0a0,!=4.0.0a1 in /usr/local/lib/python3.12/dist-packages (from fsspec[http]<=2025.3.0,>=2023.1.0->datasets~=4.0->nvidia-nat==v1.2.1->nvidia-nat[langchain]==v1.2.1->aiqtoolkit-langchain) (3.12.15)\n",
            "Requirement already satisfied: anyio in /usr/local/lib/python3.12/dist-packages (from httpx~=0.27->nvidia-nat==v1.2.1->nvidia-nat[langchain]==v1.2.1->aiqtoolkit-langchain) (4.10.0)\n",
            "Requirement already satisfied: certifi in /usr/local/lib/python3.12/dist-packages (from httpx~=0.27->nvidia-nat==v1.2.1->nvidia-nat[langchain]==v1.2.1->aiqtoolkit-langchain) (2025.8.3)\n",
            "Requirement already satisfied: httpcore==1.* in /usr/local/lib/python3.12/dist-packages (from httpx~=0.27->nvidia-nat==v1.2.1->nvidia-nat[langchain]==v1.2.1->aiqtoolkit-langchain) (1.0.9)\n",
            "Requirement already satisfied: idna in /usr/local/lib/python3.12/dist-packages (from httpx~=0.27->nvidia-nat==v1.2.1->nvidia-nat[langchain]==v1.2.1->aiqtoolkit-langchain) (3.10)\n",
            "Requirement already satisfied: h11>=0.16 in /usr/local/lib/python3.12/dist-packages (from httpcore==1.*->httpx~=0.27->nvidia-nat==v1.2.1->nvidia-nat[langchain]==v1.2.1->aiqtoolkit-langchain) (0.16.0)\n",
            "Requirement already satisfied: MarkupSafe>=2.0 in /usr/local/lib/python3.12/dist-packages (from jinja2~=3.1->nvidia-nat==v1.2.1->nvidia-nat[langchain]==v1.2.1->aiqtoolkit-langchain) (3.0.2)\n",
            "Requirement already satisfied: ply in /usr/local/lib/python3.12/dist-packages (from jsonpath-ng~=1.7->nvidia-nat==v1.2.1->nvidia-nat[langchain]==v1.2.1->aiqtoolkit-langchain) (3.11)\n",
            "Requirement already satisfied: httpx-sse>=0.4 in /usr/local/lib/python3.12/dist-packages (from mcp~=1.10->nvidia-nat==v1.2.1->nvidia-nat[langchain]==v1.2.1->aiqtoolkit-langchain) (0.4.1)\n",
            "Requirement already satisfied: jsonschema>=4.20.0 in /usr/local/lib/python3.12/dist-packages (from mcp~=1.10->nvidia-nat==v1.2.1->nvidia-nat[langchain]==v1.2.1->aiqtoolkit-langchain) (4.25.1)\n",
            "Requirement already satisfied: pydantic-settings>=2.5.2 in /usr/local/lib/python3.12/dist-packages (from mcp~=1.10->nvidia-nat==v1.2.1->nvidia-nat[langchain]==v1.2.1->aiqtoolkit-langchain) (2.10.1)\n",
            "INFO: pip is looking at multiple versions of mcp to determine which version is compatible with other requirements. This could take a while.\n",
            "Collecting mcp~=1.10 (from nvidia-nat==v1.2.1->nvidia-nat[langchain]==v1.2.1->aiqtoolkit-langchain)\n",
            "  Using cached mcp-1.16.0-py3-none-any.whl.metadata (80 kB)\n",
            "  Using cached mcp-1.15.0-py3-none-any.whl.metadata (80 kB)\n",
            "  Using cached mcp-1.14.0-py3-none-any.whl.metadata (75 kB)\n",
            "  Using cached mcp-1.13.1-py3-none-any.whl.metadata (74 kB)\n",
            "  Using cached mcp-1.13.0-py3-none-any.whl.metadata (68 kB)\n",
            "  Using cached mcp-1.12.4-py3-none-any.whl.metadata (68 kB)\n",
            "Requirement already satisfied: python-multipart>=0.0.9 in /usr/local/lib/python3.12/dist-packages (from mcp~=1.10->nvidia-nat==v1.2.1->nvidia-nat[langchain]==v1.2.1->aiqtoolkit-langchain) (0.0.20)\n",
            "Requirement already satisfied: sse-starlette>=1.6.1 in /usr/local/lib/python3.12/dist-packages (from mcp~=1.10->nvidia-nat==v1.2.1->nvidia-nat[langchain]==v1.2.1->aiqtoolkit-langchain) (3.0.2)\n",
            "Requirement already satisfied: et-xmlfile in /usr/local/lib/python3.12/dist-packages (from openpyxl~=3.1->nvidia-nat==v1.2.1->nvidia-nat[langchain]==v1.2.1->aiqtoolkit-langchain) (2.0.0)\n",
            "Requirement already satisfied: annotated-types>=0.6.0 in /usr/local/lib/python3.12/dist-packages (from pydantic==2.10.*->nvidia-nat==v1.2.1->nvidia-nat[langchain]==v1.2.1->aiqtoolkit-langchain) (0.7.0)\n",
            "Collecting pydantic-core==2.27.2 (from pydantic==2.10.*->nvidia-nat==v1.2.1->nvidia-nat[langchain]==v1.2.1->aiqtoolkit-langchain)\n",
            "  Downloading pydantic_core-2.27.2-cp312-cp312-manylinux_2_17_x86_64.manylinux2014_x86_64.whl.metadata (6.6 kB)\n",
            "Requirement already satisfied: setuptools>69 in /usr/local/lib/python3.12/dist-packages (from pymilvus~=2.4->nvidia-nat==v1.2.1->nvidia-nat[langchain]==v1.2.1->aiqtoolkit-langchain) (75.2.0)\n",
            "Requirement already satisfied: grpcio!=1.68.0,!=1.68.1,!=1.69.0,!=1.70.0,!=1.70.1,!=1.71.0,!=1.72.1,!=1.73.0,>=1.66.2 in /usr/local/lib/python3.12/dist-packages (from pymilvus~=2.4->nvidia-nat==v1.2.1->nvidia-nat[langchain]==v1.2.1->aiqtoolkit-langchain) (1.75.0)\n",
            "Requirement already satisfied: protobuf>=5.27.2 in /usr/local/lib/python3.12/dist-packages (from pymilvus~=2.4->nvidia-nat==v1.2.1->nvidia-nat[langchain]==v1.2.1->aiqtoolkit-langchain) (5.29.5)\n",
            "Requirement already satisfied: python-dotenv<2.0.0,>=1.0.1 in /usr/local/lib/python3.12/dist-packages (from pymilvus~=2.4->nvidia-nat==v1.2.1->nvidia-nat[langchain]==v1.2.1->aiqtoolkit-langchain) (1.1.1)\n",
            "Requirement already satisfied: ujson>=2.0.0 in /usr/local/lib/python3.12/dist-packages (from pymilvus~=2.4->nvidia-nat==v1.2.1->nvidia-nat[langchain]==v1.2.1->aiqtoolkit-langchain) (5.11.0)\n",
            "Requirement already satisfied: tiktoken in /usr/local/lib/python3.12/dist-packages (from ragas~=0.2.14->nvidia-nat==v1.2.1->nvidia-nat[langchain]==v1.2.1->aiqtoolkit-langchain) (0.11.0)\n",
            "Requirement already satisfied: langchain in /usr/local/lib/python3.12/dist-packages (from ragas~=0.2.14->nvidia-nat==v1.2.1->nvidia-nat[langchain]==v1.2.1->aiqtoolkit-langchain) (0.3.27)\n",
            "Requirement already satisfied: langchain-core in /usr/local/lib/python3.12/dist-packages (from ragas~=0.2.14->nvidia-nat==v1.2.1->nvidia-nat[langchain]==v1.2.1->aiqtoolkit-langchain) (0.3.77)\n",
            "Requirement already satisfied: langchain-community in /usr/local/lib/python3.12/dist-packages (from ragas~=0.2.14->nvidia-nat==v1.2.1->nvidia-nat[langchain]==v1.2.1->aiqtoolkit-langchain) (0.3.30)\n",
            "Requirement already satisfied: langchain_openai in /usr/local/lib/python3.12/dist-packages (from ragas~=0.2.14->nvidia-nat==v1.2.1->nvidia-nat[langchain]==v1.2.1->aiqtoolkit-langchain) (0.3.34)\n",
            "Requirement already satisfied: nest-asyncio in /usr/local/lib/python3.12/dist-packages (from ragas~=0.2.14->nvidia-nat==v1.2.1->nvidia-nat[langchain]==v1.2.1->aiqtoolkit-langchain) (1.6.0)\n",
            "Requirement already satisfied: appdirs in /usr/local/lib/python3.12/dist-packages (from ragas~=0.2.14->nvidia-nat==v1.2.1->nvidia-nat[langchain]==v1.2.1->aiqtoolkit-langchain) (1.4.4)\n",
            "Requirement already satisfied: openai>1 in /usr/local/lib/python3.12/dist-packages (from ragas~=0.2.14->nvidia-nat==v1.2.1->nvidia-nat[langchain]==v1.2.1->aiqtoolkit-langchain) (1.108.0)\n",
            "Requirement already satisfied: diskcache>=5.6.3 in /usr/local/lib/python3.12/dist-packages (from ragas~=0.2.14->nvidia-nat==v1.2.1->nvidia-nat[langchain]==v1.2.1->aiqtoolkit-langchain) (5.6.3)\n",
            "Requirement already satisfied: markdown-it-py>=2.2.0 in /usr/local/lib/python3.12/dist-packages (from rich~=13.9->nvidia-nat==v1.2.1->nvidia-nat[langchain]==v1.2.1->aiqtoolkit-langchain) (4.0.0)\n",
            "Requirement already satisfied: pygments<3.0.0,>=2.13.0 in /usr/local/lib/python3.12/dist-packages (from rich~=13.9->nvidia-nat==v1.2.1->nvidia-nat[langchain]==v1.2.1->aiqtoolkit-langchain) (2.19.2)\n",
            "Requirement already satisfied: sniffio>=1.1 in /usr/local/lib/python3.12/dist-packages (from anyio->httpx~=0.27->nvidia-nat==v1.2.1->nvidia-nat[langchain]==v1.2.1->aiqtoolkit-langchain) (1.3.1)\n",
            "Requirement already satisfied: httptools>=0.6.3 in /usr/local/lib/python3.12/dist-packages (from uvicorn[standard]~=0.32.0->nvidia-nat==v1.2.1->nvidia-nat[langchain]==v1.2.1->aiqtoolkit-langchain) (0.6.4)\n",
            "Requirement already satisfied: uvloop!=0.15.0,!=0.15.1,>=0.14.0 in /usr/local/lib/python3.12/dist-packages (from uvicorn[standard]~=0.32.0->nvidia-nat==v1.2.1->nvidia-nat[langchain]==v1.2.1->aiqtoolkit-langchain) (0.21.0)\n",
            "Requirement already satisfied: watchfiles>=0.13 in /usr/local/lib/python3.12/dist-packages (from uvicorn[standard]~=0.32.0->nvidia-nat==v1.2.1->nvidia-nat[langchain]==v1.2.1->aiqtoolkit-langchain) (1.1.0)\n",
            "Requirement already satisfied: websockets>=10.4 in /usr/local/lib/python3.12/dist-packages (from uvicorn[standard]~=0.32.0->nvidia-nat==v1.2.1->nvidia-nat[langchain]==v1.2.1->aiqtoolkit-langchain) (15.0.1)\n",
            "Requirement already satisfied: beautifulsoup4 in /usr/local/lib/python3.12/dist-packages (from wikipedia~=1.4->nvidia-nat==v1.2.1->nvidia-nat[langchain]==v1.2.1->aiqtoolkit-langchain) (4.13.5)\n",
            "Requirement already satisfied: charset_normalizer<4,>=2 in /usr/local/lib/python3.12/dist-packages (from requests>=2.32.2->datasets~=4.0->nvidia-nat==v1.2.1->nvidia-nat[langchain]==v1.2.1->aiqtoolkit-langchain) (3.4.3)\n",
            "Requirement already satisfied: urllib3<3,>=1.21.1 in /usr/local/lib/python3.12/dist-packages (from requests>=2.32.2->datasets~=4.0->nvidia-nat==v1.2.1->nvidia-nat[langchain]==v1.2.1->aiqtoolkit-langchain) (2.5.0)\n",
            "Collecting filetype<2.0.0,>=1.2.0 (from langchain-nvidia-ai-endpoints)\n",
            "  Downloading filetype-1.2.0-py2.py3-none-any.whl.metadata (6.5 kB)\n",
            "Requirement already satisfied: aiohappyeyeballs>=2.5.0 in /usr/local/lib/python3.12/dist-packages (from aiohttp!=4.0.0a0,!=4.0.0a1->fsspec[http]<=2025.3.0,>=2023.1.0->datasets~=4.0->nvidia-nat==v1.2.1->nvidia-nat[langchain]==v1.2.1->aiqtoolkit-langchain) (2.6.1)\n",
            "Requirement already satisfied: aiosignal>=1.4.0 in /usr/local/lib/python3.12/dist-packages (from aiohttp!=4.0.0a0,!=4.0.0a1->fsspec[http]<=2025.3.0,>=2023.1.0->datasets~=4.0->nvidia-nat==v1.2.1->nvidia-nat[langchain]==v1.2.1->aiqtoolkit-langchain) (1.4.0)\n",
            "Requirement already satisfied: attrs>=17.3.0 in /usr/local/lib/python3.12/dist-packages (from aiohttp!=4.0.0a0,!=4.0.0a1->fsspec[http]<=2025.3.0,>=2023.1.0->datasets~=4.0->nvidia-nat==v1.2.1->nvidia-nat[langchain]==v1.2.1->aiqtoolkit-langchain) (25.3.0)\n",
            "Requirement already satisfied: frozenlist>=1.1.1 in /usr/local/lib/python3.12/dist-packages (from aiohttp!=4.0.0a0,!=4.0.0a1->fsspec[http]<=2025.3.0,>=2023.1.0->datasets~=4.0->nvidia-nat==v1.2.1->nvidia-nat[langchain]==v1.2.1->aiqtoolkit-langchain) (1.7.0)\n",
            "Requirement already satisfied: multidict<7.0,>=4.5 in /usr/local/lib/python3.12/dist-packages (from aiohttp!=4.0.0a0,!=4.0.0a1->fsspec[http]<=2025.3.0,>=2023.1.0->datasets~=4.0->nvidia-nat==v1.2.1->nvidia-nat[langchain]==v1.2.1->aiqtoolkit-langchain) (6.6.4)\n",
            "Requirement already satisfied: propcache>=0.2.0 in /usr/local/lib/python3.12/dist-packages (from aiohttp!=4.0.0a0,!=4.0.0a1->fsspec[http]<=2025.3.0,>=2023.1.0->datasets~=4.0->nvidia-nat==v1.2.1->nvidia-nat[langchain]==v1.2.1->aiqtoolkit-langchain) (0.3.2)\n",
            "Requirement already satisfied: yarl<2.0,>=1.17.0 in /usr/local/lib/python3.12/dist-packages (from aiohttp!=4.0.0a0,!=4.0.0a1->fsspec[http]<=2025.3.0,>=2023.1.0->datasets~=4.0->nvidia-nat==v1.2.1->nvidia-nat[langchain]==v1.2.1->aiqtoolkit-langchain) (1.20.1)\n",
            "Requirement already satisfied: langsmith<1.0.0,>=0.3.45 in /usr/local/lib/python3.12/dist-packages (from langchain-core->ragas~=0.2.14->nvidia-nat==v1.2.1->nvidia-nat[langchain]==v1.2.1->aiqtoolkit-langchain) (0.4.28)\n",
            "Requirement already satisfied: tenacity!=8.4.0,<10.0.0,>=8.1.0 in /usr/local/lib/python3.12/dist-packages (from langchain-core->ragas~=0.2.14->nvidia-nat==v1.2.1->nvidia-nat[langchain]==v1.2.1->aiqtoolkit-langchain) (8.5.0)\n",
            "Requirement already satisfied: jsonpatch<2.0.0,>=1.33.0 in /usr/local/lib/python3.12/dist-packages (from langchain-core->ragas~=0.2.14->nvidia-nat==v1.2.1->nvidia-nat[langchain]==v1.2.1->aiqtoolkit-langchain) (1.33)\n",
            "Requirement already satisfied: jsonpointer>=1.9 in /usr/local/lib/python3.12/dist-packages (from jsonpatch<2.0.0,>=1.33.0->langchain-core->ragas~=0.2.14->nvidia-nat==v1.2.1->nvidia-nat[langchain]==v1.2.1->aiqtoolkit-langchain) (3.0.0)\n",
            "Requirement already satisfied: orjson>=3.9.14 in /usr/local/lib/python3.12/dist-packages (from langsmith<1.0.0,>=0.3.45->langchain-core->ragas~=0.2.14->nvidia-nat==v1.2.1->nvidia-nat[langchain]==v1.2.1->aiqtoolkit-langchain) (3.11.3)\n",
            "Requirement already satisfied: requests-toolbelt>=1.0.0 in /usr/local/lib/python3.12/dist-packages (from langsmith<1.0.0,>=0.3.45->langchain-core->ragas~=0.2.14->nvidia-nat==v1.2.1->nvidia-nat[langchain]==v1.2.1->aiqtoolkit-langchain) (1.0.0)\n",
            "Requirement already satisfied: zstandard>=0.23.0 in /usr/local/lib/python3.12/dist-packages (from langsmith<1.0.0,>=0.3.45->langchain-core->ragas~=0.2.14->nvidia-nat==v1.2.1->nvidia-nat[langchain]==v1.2.1->aiqtoolkit-langchain) (0.25.0)\n",
            "Requirement already satisfied: transformers<5.0.0,>=4.41.0 in /usr/local/lib/python3.12/dist-packages (from sentence-transformers) (4.56.1)\n",
            "Requirement already satisfied: torch>=1.11.0 in /usr/local/lib/python3.12/dist-packages (from sentence-transformers) (2.8.0+cu126)\n",
            "Requirement already satisfied: scikit-learn in /usr/local/lib/python3.12/dist-packages (from sentence-transformers) (1.6.1)\n",
            "Requirement already satisfied: scipy in /usr/local/lib/python3.12/dist-packages (from sentence-transformers) (1.16.2)\n",
            "Requirement already satisfied: Pillow in /usr/local/lib/python3.12/dist-packages (from sentence-transformers) (11.3.0)\n",
            "Requirement already satisfied: regex!=2019.12.17 in /usr/local/lib/python3.12/dist-packages (from transformers<5.0.0,>=4.41.0->sentence-transformers) (2024.11.6)\n",
            "Requirement already satisfied: tokenizers<=0.23.0,>=0.22.0 in /usr/local/lib/python3.12/dist-packages (from transformers<5.0.0,>=4.41.0->sentence-transformers) (0.22.0)\n",
            "Requirement already satisfied: safetensors>=0.4.3 in /usr/local/lib/python3.12/dist-packages (from transformers<5.0.0,>=4.41.0->sentence-transformers) (0.6.2)\n",
            "Requirement already satisfied: hf-xet<2.0.0,>=1.1.3 in /usr/local/lib/python3.12/dist-packages (from huggingface-hub>=0.24.0->datasets~=4.0->nvidia-nat==v1.2.1->nvidia-nat[langchain]==v1.2.1->aiqtoolkit-langchain) (1.1.10)\n",
            "Requirement already satisfied: aiobotocore==2.24.0 in /usr/local/lib/python3.12/dist-packages (from aiobotocore[boto3]==2.24.0->aioboto3>=11.0.0->nvidia-nat==v1.2.1->nvidia-nat[langchain]==v1.2.1->aiqtoolkit-langchain) (2.24.0)\n",
            "Requirement already satisfied: aiofiles>=23.2.1 in /usr/local/lib/python3.12/dist-packages (from aioboto3>=11.0.0->nvidia-nat==v1.2.1->nvidia-nat[langchain]==v1.2.1->aiqtoolkit-langchain) (24.1.0)\n",
            "Requirement already satisfied: aioitertools<1.0.0,>=0.5.1 in /usr/local/lib/python3.12/dist-packages (from aiobotocore==2.24.0->aiobotocore[boto3]==2.24.0->aioboto3>=11.0.0->nvidia-nat==v1.2.1->nvidia-nat[langchain]==v1.2.1->aiqtoolkit-langchain) (0.12.0)\n",
            "Requirement already satisfied: botocore<1.39.12,>=1.39.9 in /usr/local/lib/python3.12/dist-packages (from aiobotocore==2.24.0->aiobotocore[boto3]==2.24.0->aioboto3>=11.0.0->nvidia-nat==v1.2.1->nvidia-nat[langchain]==v1.2.1->aiqtoolkit-langchain) (1.39.11)\n",
            "Requirement already satisfied: python-dateutil<3.0.0,>=2.1 in /usr/local/lib/python3.12/dist-packages (from aiobotocore==2.24.0->aiobotocore[boto3]==2.24.0->aioboto3>=11.0.0->nvidia-nat==v1.2.1->nvidia-nat[langchain]==v1.2.1->aiqtoolkit-langchain) (2.9.0.post0)\n",
            "Requirement already satisfied: jmespath<2.0.0,>=0.7.1 in /usr/local/lib/python3.12/dist-packages (from aiobotocore==2.24.0->aiobotocore[boto3]==2.24.0->aioboto3>=11.0.0->nvidia-nat==v1.2.1->nvidia-nat[langchain]==v1.2.1->aiqtoolkit-langchain) (1.0.1)\n",
            "Requirement already satisfied: wrapt<2.0.0,>=1.10.10 in /usr/local/lib/python3.12/dist-packages (from aiobotocore==2.24.0->aiobotocore[boto3]==2.24.0->aioboto3>=11.0.0->nvidia-nat==v1.2.1->nvidia-nat[langchain]==v1.2.1->aiqtoolkit-langchain) (1.17.3)\n",
            "Requirement already satisfied: boto3<1.39.12,>=1.39.9 in /usr/local/lib/python3.12/dist-packages (from aiobotocore[boto3]==2.24.0->aioboto3>=11.0.0->nvidia-nat==v1.2.1->nvidia-nat[langchain]==v1.2.1->aiqtoolkit-langchain) (1.39.11)\n",
            "Requirement already satisfied: s3transfer<0.14.0,>=0.13.0 in /usr/local/lib/python3.12/dist-packages (from boto3<1.39.12,>=1.39.9->aiobotocore[boto3]==2.24.0->aioboto3>=11.0.0->nvidia-nat==v1.2.1->nvidia-nat[langchain]==v1.2.1->aiqtoolkit-langchain) (0.13.1)\n",
            "Requirement already satisfied: six>=1.5 in /usr/local/lib/python3.12/dist-packages (from python-dateutil<3.0.0,>=2.1->aiobotocore==2.24.0->aiobotocore[boto3]==2.24.0->aioboto3>=11.0.0->nvidia-nat==v1.2.1->nvidia-nat[langchain]==v1.2.1->aiqtoolkit-langchain) (1.17.0)\n",
            "Requirement already satisfied: jsonschema-specifications>=2023.03.6 in /usr/local/lib/python3.12/dist-packages (from jsonschema>=4.20.0->mcp~=1.10->nvidia-nat==v1.2.1->nvidia-nat[langchain]==v1.2.1->aiqtoolkit-langchain) (2025.9.1)\n",
            "Requirement already satisfied: referencing>=0.28.4 in /usr/local/lib/python3.12/dist-packages (from jsonschema>=4.20.0->mcp~=1.10->nvidia-nat==v1.2.1->nvidia-nat[langchain]==v1.2.1->aiqtoolkit-langchain) (0.36.2)\n",
            "Requirement already satisfied: rpds-py>=0.7.1 in /usr/local/lib/python3.12/dist-packages (from jsonschema>=4.20.0->mcp~=1.10->nvidia-nat==v1.2.1->nvidia-nat[langchain]==v1.2.1->aiqtoolkit-langchain) (0.27.1)\n",
            "Requirement already satisfied: mdurl~=0.1 in /usr/local/lib/python3.12/dist-packages (from markdown-it-py>=2.2.0->rich~=13.9->nvidia-nat==v1.2.1->nvidia-nat[langchain]==v1.2.1->aiqtoolkit-langchain) (0.1.2)\n",
            "Requirement already satisfied: distro<2,>=1.7.0 in /usr/local/lib/python3.12/dist-packages (from openai>1->ragas~=0.2.14->nvidia-nat==v1.2.1->nvidia-nat[langchain]==v1.2.1->aiqtoolkit-langchain) (1.9.0)\n",
            "Requirement already satisfied: jiter<1,>=0.4.0 in /usr/local/lib/python3.12/dist-packages (from openai>1->ragas~=0.2.14->nvidia-nat==v1.2.1->nvidia-nat[langchain]==v1.2.1->aiqtoolkit-langchain) (0.11.0)\n",
            "Requirement already satisfied: pytz>=2020.1 in /usr/local/lib/python3.12/dist-packages (from pandas->datasets~=4.0->nvidia-nat==v1.2.1->nvidia-nat[langchain]==v1.2.1->aiqtoolkit-langchain) (2025.2)\n",
            "Requirement already satisfied: tzdata>=2022.7 in /usr/local/lib/python3.12/dist-packages (from pandas->datasets~=4.0->nvidia-nat==v1.2.1->nvidia-nat[langchain]==v1.2.1->aiqtoolkit-langchain) (2025.2)\n",
            "Requirement already satisfied: typing-inspection>=0.4.0 in /usr/local/lib/python3.12/dist-packages (from pydantic-settings>=2.5.2->mcp~=1.10->nvidia-nat==v1.2.1->nvidia-nat[langchain]==v1.2.1->aiqtoolkit-langchain) (0.4.1)\n",
            "Requirement already satisfied: sympy>=1.13.3 in /usr/local/lib/python3.12/dist-packages (from torch>=1.11.0->sentence-transformers) (1.13.3)\n",
            "Requirement already satisfied: nvidia-cuda-nvrtc-cu12==12.6.77 in /usr/local/lib/python3.12/dist-packages (from torch>=1.11.0->sentence-transformers) (12.6.77)\n",
            "Requirement already satisfied: nvidia-cuda-runtime-cu12==12.6.77 in /usr/local/lib/python3.12/dist-packages (from torch>=1.11.0->sentence-transformers) (12.6.77)\n",
            "Requirement already satisfied: nvidia-cuda-cupti-cu12==12.6.80 in /usr/local/lib/python3.12/dist-packages (from torch>=1.11.0->sentence-transformers) (12.6.80)\n",
            "Requirement already satisfied: nvidia-cudnn-cu12==9.10.2.21 in /usr/local/lib/python3.12/dist-packages (from torch>=1.11.0->sentence-transformers) (9.10.2.21)\n",
            "Requirement already satisfied: nvidia-cublas-cu12==12.6.4.1 in /usr/local/lib/python3.12/dist-packages (from torch>=1.11.0->sentence-transformers) (12.6.4.1)\n",
            "Requirement already satisfied: nvidia-cufft-cu12==11.3.0.4 in /usr/local/lib/python3.12/dist-packages (from torch>=1.11.0->sentence-transformers) (11.3.0.4)\n",
            "Requirement already satisfied: nvidia-curand-cu12==10.3.7.77 in /usr/local/lib/python3.12/dist-packages (from torch>=1.11.0->sentence-transformers) (10.3.7.77)\n",
            "Requirement already satisfied: nvidia-cusolver-cu12==11.7.1.2 in /usr/local/lib/python3.12/dist-packages (from torch>=1.11.0->sentence-transformers) (11.7.1.2)\n",
            "Requirement already satisfied: nvidia-cusparse-cu12==12.5.4.2 in /usr/local/lib/python3.12/dist-packages (from torch>=1.11.0->sentence-transformers) (12.5.4.2)\n",
            "Requirement already satisfied: nvidia-cusparselt-cu12==0.7.1 in /usr/local/lib/python3.12/dist-packages (from torch>=1.11.0->sentence-transformers) (0.7.1)\n",
            "Requirement already satisfied: nvidia-nccl-cu12==2.27.3 in /usr/local/lib/python3.12/dist-packages (from torch>=1.11.0->sentence-transformers) (2.27.3)\n",
            "Requirement already satisfied: nvidia-nvtx-cu12==12.6.77 in /usr/local/lib/python3.12/dist-packages (from torch>=1.11.0->sentence-transformers) (12.6.77)\n",
            "Requirement already satisfied: nvidia-nvjitlink-cu12==12.6.85 in /usr/local/lib/python3.12/dist-packages (from torch>=1.11.0->sentence-transformers) (12.6.85)\n",
            "Requirement already satisfied: nvidia-cufile-cu12==1.11.1.6 in /usr/local/lib/python3.12/dist-packages (from torch>=1.11.0->sentence-transformers) (1.11.1.6)\n",
            "Requirement already satisfied: triton==3.4.0 in /usr/local/lib/python3.12/dist-packages (from torch>=1.11.0->sentence-transformers) (3.4.0)\n",
            "Requirement already satisfied: mpmath<1.4,>=1.1.0 in /usr/local/lib/python3.12/dist-packages (from sympy>=1.13.3->torch>=1.11.0->sentence-transformers) (1.3.0)\n",
            "Requirement already satisfied: soupsieve>1.2 in /usr/local/lib/python3.12/dist-packages (from beautifulsoup4->wikipedia~=1.4->nvidia-nat==v1.2.1->nvidia-nat[langchain]==v1.2.1->aiqtoolkit-langchain) (2.8)\n",
            "Requirement already satisfied: cffi>=1.12 in /usr/local/lib/python3.12/dist-packages (from cryptography->authlib~=1.3.1->nvidia-nat==v1.2.1->nvidia-nat[langchain]==v1.2.1->aiqtoolkit-langchain) (2.0.0)\n",
            "Requirement already satisfied: pycparser in /usr/local/lib/python3.12/dist-packages (from cffi>=1.12->cryptography->authlib~=1.3.1->nvidia-nat==v1.2.1->nvidia-nat[langchain]==v1.2.1->aiqtoolkit-langchain) (2.23)\n",
            "Requirement already satisfied: langchain-text-splitters<1.0.0,>=0.3.9 in /usr/local/lib/python3.12/dist-packages (from langchain->ragas~=0.2.14->nvidia-nat==v1.2.1->nvidia-nat[langchain]==v1.2.1->aiqtoolkit-langchain) (0.3.11)\n",
            "Requirement already satisfied: SQLAlchemy<3,>=1.4 in /usr/local/lib/python3.12/dist-packages (from langchain->ragas~=0.2.14->nvidia-nat==v1.2.1->nvidia-nat[langchain]==v1.2.1->aiqtoolkit-langchain) (2.0.43)\n",
            "Requirement already satisfied: greenlet>=1 in /usr/local/lib/python3.12/dist-packages (from SQLAlchemy<3,>=1.4->langchain->ragas~=0.2.14->nvidia-nat==v1.2.1->nvidia-nat[langchain]==v1.2.1->aiqtoolkit-langchain) (3.2.4)\n",
            "Requirement already satisfied: dataclasses-json<0.7.0,>=0.6.7 in /usr/local/lib/python3.12/dist-packages (from langchain-community->ragas~=0.2.14->nvidia-nat==v1.2.1->nvidia-nat[langchain]==v1.2.1->aiqtoolkit-langchain) (0.6.7)\n",
            "Requirement already satisfied: marshmallow<4.0.0,>=3.18.0 in /usr/local/lib/python3.12/dist-packages (from dataclasses-json<0.7.0,>=0.6.7->langchain-community->ragas~=0.2.14->nvidia-nat==v1.2.1->nvidia-nat[langchain]==v1.2.1->aiqtoolkit-langchain) (3.26.1)\n",
            "Requirement already satisfied: typing-inspect<1,>=0.4.0 in /usr/local/lib/python3.12/dist-packages (from dataclasses-json<0.7.0,>=0.6.7->langchain-community->ragas~=0.2.14->nvidia-nat==v1.2.1->nvidia-nat[langchain]==v1.2.1->aiqtoolkit-langchain) (0.9.0)\n",
            "Requirement already satisfied: mypy-extensions>=0.3.0 in /usr/local/lib/python3.12/dist-packages (from typing-inspect<1,>=0.4.0->dataclasses-json<0.7.0,>=0.6.7->langchain-community->ragas~=0.2.14->nvidia-nat==v1.2.1->nvidia-nat[langchain]==v1.2.1->aiqtoolkit-langchain) (1.1.0)\n",
            "Collecting langchain-aws~=0.2.1 (from nvidia-nat-langchain->nvidia-nat[langchain]==v1.2.1->aiqtoolkit-langchain)\n",
            "  Downloading langchain_aws-0.2.35-py3-none-any.whl.metadata (4.5 kB)\n",
            "Collecting langchain-milvus~=0.1.5 (from nvidia-nat-langchain->nvidia-nat[langchain]==v1.2.1->aiqtoolkit-langchain)\n",
            "  Downloading langchain_milvus-0.1.10-py3-none-any.whl.metadata (3.7 kB)\n",
            "Collecting langgraph~=0.2.50 (from nvidia-nat-langchain->nvidia-nat[langchain]==v1.2.1->aiqtoolkit-langchain)\n",
            "  Downloading langgraph-0.2.76-py3-none-any.whl.metadata (17 kB)\n",
            "Collecting langgraph-checkpoint<3.0.0,>=2.0.10 (from langgraph~=0.2.50->nvidia-nat-langchain->nvidia-nat[langchain]==v1.2.1->aiqtoolkit-langchain)\n",
            "  Downloading langgraph_checkpoint-2.1.1-py3-none-any.whl.metadata (4.2 kB)\n",
            "Collecting langgraph-sdk<0.2.0,>=0.1.42 (from langgraph~=0.2.50->nvidia-nat-langchain->nvidia-nat[langchain]==v1.2.1->aiqtoolkit-langchain)\n",
            "  Downloading langgraph_sdk-0.1.74-py3-none-any.whl.metadata (1.5 kB)\n",
            "Collecting ormsgpack>=1.10.0 (from langgraph-checkpoint<3.0.0,>=2.0.10->langgraph~=0.2.50->nvidia-nat-langchain->nvidia-nat[langchain]==v1.2.1->aiqtoolkit-langchain)\n",
            "  Downloading ormsgpack-1.10.0-cp312-cp312-manylinux_2_17_x86_64.manylinux2014_x86_64.whl.metadata (43 kB)\n",
            "Requirement already satisfied: joblib>=1.2.0 in /usr/local/lib/python3.12/dist-packages (from scikit-learn->sentence-transformers) (1.5.2)\n",
            "Requirement already satisfied: threadpoolctl>=3.1.0 in /usr/local/lib/python3.12/dist-packages (from scikit-learn->sentence-transformers) (3.6.0)\n",
            "Downloading aiqtoolkit_langchain-1.2.1-py3-none-any.whl (1.8 kB)\n",
            "Downloading nvidia_nat-1.2.1-py3-none-any.whl (718 kB)\n",
            "\u001b[2K   \u001b[90m━━━━━━━━━━━━━━━━━━━━━━━━━━━━━━━━━━━━━━━━\u001b[0m \u001b[32m718.8/718.8 kB\u001b[0m \u001b[31m20.8 MB/s\u001b[0m  \u001b[33m0:00:00\u001b[0m\n",
            "\u001b[?25hDownloading Authlib-1.3.2-py2.py3-none-any.whl (225 kB)\n",
            "Downloading mcp-1.12.4-py3-none-any.whl (160 kB)\n",
            "Downloading numpy-1.26.4-cp312-cp312-manylinux_2_17_x86_64.manylinux2014_x86_64.whl (18.0 MB)\n",
            "\u001b[2K   \u001b[90m━━━━━━━━━━━━━━━━━━━━━━━━━━━━━━━━━━━━━━━━\u001b[0m \u001b[32m18.0/18.0 MB\u001b[0m \u001b[31m141.4 MB/s\u001b[0m  \u001b[33m0:00:00\u001b[0m\n",
            "\u001b[?25hDownloading pydantic-2.10.6-py3-none-any.whl (431 kB)\n",
            "Downloading pydantic_core-2.27.2-cp312-cp312-manylinux_2_17_x86_64.manylinux2014_x86_64.whl (2.0 MB)\n",
            "\u001b[2K   \u001b[90m━━━━━━━━━━━━━━━━━━━━━━━━━━━━━━━━━━━━━━━━\u001b[0m \u001b[32m2.0/2.0 MB\u001b[0m \u001b[31m95.1 MB/s\u001b[0m  \u001b[33m0:00:00\u001b[0m\n",
            "\u001b[?25hDownloading uvicorn-0.32.1-py3-none-any.whl (63 kB)\n",
            "Downloading langchain_nvidia_ai_endpoints-0.3.18-py3-none-any.whl (44 kB)\n",
            "Downloading filetype-1.2.0-py2.py3-none-any.whl (19 kB)\n",
            "Downloading nvidia_nat_langchain-1.2.1-py3-none-any.whl (13 kB)\n",
            "Downloading langchain_aws-0.2.35-py3-none-any.whl (145 kB)\n",
            "Downloading langchain_milvus-0.1.10-py3-none-any.whl (29 kB)\n",
            "Downloading langgraph-0.2.76-py3-none-any.whl (153 kB)\n",
            "Downloading langgraph_checkpoint-2.1.1-py3-none-any.whl (43 kB)\n",
            "Downloading langgraph_sdk-0.1.74-py3-none-any.whl (50 kB)\n",
            "Downloading ormsgpack-1.10.0-cp312-cp312-manylinux_2_17_x86_64.manylinux2014_x86_64.whl (216 kB)\n",
            "Installing collected packages: filetype, uvicorn, pydantic-core, ormsgpack, numpy, pydantic, langgraph-sdk, authlib, mcp, langgraph-checkpoint, langchain-nvidia-ai-endpoints, langchain-milvus, langchain-aws, langgraph, nvidia-nat, nvidia-nat-langchain, aiqtoolkit-langchain\n",
            "\u001b[2K  Attempting uninstall: uvicorn\n",
            "\u001b[2K    Found existing installation: uvicorn 0.35.0\n",
            "\u001b[2K    Uninstalling uvicorn-0.35.0:\n",
            "\u001b[2K      Successfully uninstalled uvicorn-0.35.0\n",
            "\u001b[2K  Attempting uninstall: pydantic-core\n",
            "\u001b[2K    Found existing installation: pydantic_core 2.33.2\n",
            "\u001b[2K    Uninstalling pydantic_core-2.33.2:\n",
            "\u001b[2K      Successfully uninstalled pydantic_core-2.33.2\n",
            "\u001b[2K  Attempting uninstall: numpy\n",
            "\u001b[2K    Found existing installation: numpy 2.3.3\n",
            "\u001b[2K    Uninstalling numpy-2.3.3:\n",
            "\u001b[2K      Successfully uninstalled numpy-2.3.3\n",
            "\u001b[2K  Attempting uninstall: pydantic\n",
            "\u001b[2K    Found existing installation: pydantic 2.11.9\n",
            "\u001b[2K    Uninstalling pydantic-2.11.9:\n",
            "\u001b[2K      Successfully uninstalled pydantic-2.11.9\n",
            "\u001b[2K  Attempting uninstall: authlib\n",
            "\u001b[2K    Found existing installation: Authlib 1.6.4\n",
            "\u001b[2K    Uninstalling Authlib-1.6.4:\n",
            "\u001b[2K      Successfully uninstalled Authlib-1.6.4\n",
            "\u001b[2K  Attempting uninstall: mcp\n",
            "\u001b[2K    Found existing installation: mcp 1.14.1\n",
            "\u001b[2K    Uninstalling mcp-1.14.1:\n",
            "\u001b[2K      Successfully uninstalled mcp-1.14.1\n",
            "\u001b[2K  Attempting uninstall: nvidia-nat\n",
            "\u001b[2K    Found existing installation: nvidia-nat 1.4.0.dev2+g7c80936\n",
            "\u001b[2K    Uninstalling nvidia-nat-1.4.0.dev2+g7c80936:\n",
            "\u001b[2K      Successfully uninstalled nvidia-nat-1.4.0.dev2+g7c80936\n",
            "\u001b[2K   \u001b[90m━━━━━━━━━━━━━━━━━━━━━━━━━━━━━━━━━━━━━━━━\u001b[0m \u001b[32m17/17\u001b[0m [aiqtoolkit-langchain]\n",
            "\u001b[1A\u001b[2K\u001b[31mERROR: pip's dependency resolver does not currently take into account all the packages that are installed. This behaviour is the source of the following dependency conflicts.\n",
            "opencv-contrib-python 4.12.0.88 requires numpy<2.3.0,>=2; python_version >= \"3.9\", but you have numpy 1.26.4 which is incompatible.\n",
            "opencv-python-headless 4.12.0.88 requires numpy<2.3.0,>=2; python_version >= \"3.9\", but you have numpy 1.26.4 which is incompatible.\n",
            "thinc 8.3.6 requires numpy<3.0.0,>=2.0.0, but you have numpy 1.26.4 which is incompatible.\n",
            "opencv-python 4.12.0.88 requires numpy<2.3.0,>=2; python_version >= \"3.9\", but you have numpy 1.26.4 which is incompatible.\n",
            "google-adk 1.14.1 requires authlib<2.0.0,>=1.5.1, but you have authlib 1.3.2 which is incompatible.\n",
            "google-adk 1.14.1 requires uvicorn<1.0.0,>=0.34.0, but you have uvicorn 0.32.1 which is incompatible.\u001b[0m\u001b[31m\n",
            "\u001b[0mSuccessfully installed aiqtoolkit-langchain-1.2.1 authlib-1.3.2 filetype-1.2.0 langchain-aws-0.2.35 langchain-milvus-0.1.10 langchain-nvidia-ai-endpoints-0.3.18 langgraph-0.2.76 langgraph-checkpoint-2.1.1 langgraph-sdk-0.1.74 mcp-1.12.4 numpy-1.26.4 nvidia-nat-1.2.1 nvidia-nat-langchain-1.2.1 ormsgpack-1.10.0 pydantic-2.10.6 pydantic-core-2.27.2 uvicorn-0.32.1\n"
          ]
        },
        {
          "output_type": "display_data",
          "data": {
            "application/vnd.colab-display-data+json": {
              "pip_warning": {
                "packages": [
                  "numpy"
                ]
              },
              "id": "c1ab61a04db349a487dc690cd0f0d360"
            }
          },
          "metadata": {}
        }
      ],
      "source": [
        "# ✅ Installing Required Packages\n",
        "%pip install -U pip\n",
        "%pip install git+https://github.com/NVIDIA/NeMo-Agent-Toolkit.git\n",
        "%pip install aiqtoolkit-langchain langchain-nvidia-ai-endpoints sentence-transformers\n"
      ]
    },
    {
      "cell_type": "code",
      "execution_count": null,
      "id": "d-RXTvklS0PM",
      "metadata": {
        "id": "d-RXTvklS0PM"
      },
      "outputs": [],
      "source": [
        "# import logging\n",
        "\n",
        "# from pydantic import Field\n",
        "\n",
        "# from aiq.builder.builder import Builder\n",
        "# from aiq.builder.function_info import FunctionInfo\n",
        "# from aiq.cli.register_workflow import register_function\n",
        "# from aiq.data_models.function import FunctionBaseConfig\n",
        "\n",
        "# logger = logging.getLogger(__name__)\n",
        "\n",
        "\n",
        "# class MyAgentWorkflow1FunctionConfig(FunctionBaseConfig, name=\"my_agent_workflow\"):\n",
        "#     \"\"\"\n",
        "#     AIQ Toolkit function template. Please update the description.\n",
        "#     \"\"\"\n",
        "#     # Add your custom configuration parameters here\n",
        "\n",
        "\n",
        "# @register_function(config_type=MyAgentWorkflow1FunctionConfig)\n",
        "# async def my_agent_workflow1_function(\n",
        "#     config: MyAgentWorkflow1FunctionConfig, builder: Builder\n",
        "# ):\n",
        "#     import os\n",
        "#     from langchain import hub\n",
        "#     from langchain.agents import AgentExecutor\n",
        "#     from langchain.agents import create_react_agent\n",
        "#     from langchain_nvidia_ai_endpoints import ChatNVIDIA\n",
        "#     from langchain_community.tools.tavily_search import TavilySearchResults\n",
        "\n",
        "#     # Initialize a tool to search the web\n",
        "#     tavily_kwargs = {\"max_results\": 2, \"api_key\": os.getenv(\"TAVILY_API_KEY\")}\n",
        "#     search = TavilySearchResults(**tavily_kwargs)\n",
        "\n",
        "#     # Create a list of tools for the agent\n",
        "#     tools = [search]\n",
        "\n",
        "#     # Initialize a LLM client\n",
        "#     llm_kwargs = {\n",
        "#         \"model_name\": \"meta/llama-3.3-70b-instruct\",\n",
        "#         \"temperature\": 0.0,\n",
        "#         \"max_tokens\": 1024,\n",
        "#         \"api_key\": os.getenv(\"NVIDIA_API_KEY\"),\n",
        "#     }\n",
        "#     llm = ChatNVIDIA(**llm_kwargs)\n",
        "\n",
        "#     # Use an open source prompt\n",
        "#     prompt = hub.pull(\"hwchase17/react-chat\")\n",
        "#     react_agent = create_react_agent(llm=llm, tools=tools, prompt=prompt, stop_sequence=[\"\\nObservation\"])\n",
        "\n",
        "#     # Initialize an agent executor to iterate through reasoning steps\n",
        "#     agent_executor = AgentExecutor(agent=react_agent,\n",
        "#                                 tools=tools,\n",
        "#                                 max_iterations=15,\n",
        "#                                 handle_parsing_errors=True,\n",
        "#                                 verbose=True)\n",
        "#     async def _response_fn(input_message: str) -> str:\n",
        "#         # Process the input_message and generate output\n",
        "#         response = agent_executor.invoke({\"input\": input_message, \"chat_history\": []})\n",
        "#         return response[\"output\"]\n",
        "\n",
        "#     try:\n",
        "#         yield FunctionInfo.create(single_fn=_response_fn)\n",
        "#     except GeneratorExit:\n",
        "#         print(\"Function exited early!\")\n",
        "#     finally:\n",
        "#         print(\"Cleaning up my_agent_workflow1 workflow.\")\n",
        "\n"
      ]
    },
    {
      "cell_type": "markdown",
      "id": "f2f4b9e4",
      "metadata": {
        "id": "f2f4b9e4"
      },
      "source": [
        "# 🔐 Step 2: API Keys Configuration\n",
        "\n",
        "## Setting Up Authentication\n",
        "Before building agents, we need to configure API keys for accessing external services. This section sets up secure authentication for both NVIDIA's language models and Tavily's search API.\n",
        "\n",
        "### 🔑 NVIDIA API Key\n",
        "Required for accessing NVIDIA's hosted language models through NIM (NVIDIA Inference Microservices).\n"
      ]
    },
    {
      "cell_type": "code",
      "execution_count": 1,
      "id": "8391b73b",
      "metadata": {
        "colab": {
          "base_uri": "https://localhost:8080/"
        },
        "id": "8391b73b",
        "outputId": "f8082005-ab41-4bf9-cc87-551174af0e00"
      },
      "outputs": [
        {
          "name": "stdout",
          "output_type": "stream",
          "text": [
            "Enter your NVIDIA API key: ··········\n"
          ]
        }
      ],
      "source": [
        "import getpass\n",
        "import os\n",
        "\n",
        "if \"NVIDIA_API_KEY\" not in os.environ:\n",
        "    nvidia_api_key = getpass.getpass(\"Enter your NVIDIA API key: \")\n",
        "    os.environ[\"NVIDIA_API_KEY\"] = nvidia_api_key"
      ]
    },
    {
      "cell_type": "code",
      "execution_count": null,
      "id": "AjIcWZDoMC3_",
      "metadata": {
        "id": "AjIcWZDoMC3_"
      },
      "outputs": [],
      "source": []
    },
    {
      "cell_type": "markdown",
      "id": "faade727",
      "metadata": {
        "id": "faade727"
      },
      "source": [
        "### 🔍 Tavily API Key\n",
        "Required for web search functionality. Tavily provides high-quality search results optimized for AI applications.\n"
      ]
    },
    {
      "cell_type": "code",
      "execution_count": null,
      "id": "v-UgL-HNMD7x",
      "metadata": {
        "id": "v-UgL-HNMD7x"
      },
      "outputs": [],
      "source": [
        "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"
      ]
    },
    {
      "cell_type": "code",
      "execution_count": 2,
      "id": "85c1df21",
      "metadata": {
        "colab": {
          "base_uri": "https://localhost:8080/"
        },
        "id": "85c1df21",
        "outputId": "04431abf-f037-413e-c89d-bb55376e247c"
      },
      "outputs": [
        {
          "name": "stdout",
          "output_type": "stream",
          "text": [
            "Enter your Tavily API key: ··········\n"
          ]
        }
      ],
      "source": [
        "if \"TAVILY_API_KEY\" not in os.environ:\n",
        "    tavily_api_key = getpass.getpass(\"Enter your Tavily API key: \")\n",
        "    os.environ[\"TAVILY_API_KEY\"] = tavily_api_key"
      ]
    },
    {
      "cell_type": "markdown",
      "id": "c6ef74de",
      "metadata": {
        "id": "c6ef74de"
      },
      "source": [
        "# 🤖 Step 3: Building Your First ReAct Agent with LangChain\n",
        "\n",
        "## Understanding ReAct Agents\n",
        "ReAct (Reasoning + Acting) agents combine reasoning and action in an iterative loop. They can:\n",
        "- **Think** about the problem step by step\n",
        "- **Act** by using tools to gather information\n",
        "- **Observe** the results and adjust their approach\n",
        "- **Repeat** until they have a complete answer\n",
        "\n",
        "This makes them particularly powerful for tasks requiring research, analysis, and multi-step problem solving.\n"
      ]
    },
    {
      "cell_type": "markdown",
      "id": "F_dLDopD05Vi",
      "metadata": {
        "id": "F_dLDopD05Vi"
      },
      "source": [
        "## Lets create a basic React Agent in Langchain."
      ]
    },
    {
      "cell_type": "markdown",
      "id": "8633b43c",
      "metadata": {
        "id": "8633b43c"
      },
      "source": [
        "### 📝 Creating the Agent Script\n",
        "This cell creates a complete LangChain ReAct agent script that demonstrates the core concepts of agent-based AI.\n",
        "\n",
        "**Key Components:**\n",
        "- **Search Tool**: Tavily search for web information\n",
        "- **Language Model**: NVIDIA's Llama 3.3 70B model\n",
        "- **ReAct Prompt**: Pre-built reasoning template from LangChain Hub\n",
        "- **Agent Executor**: Orchestrates the reasoning and action loop\n"
      ]
    },
    {
      "cell_type": "code",
      "execution_count": 3,
      "id": "e1889697",
      "metadata": {
        "id": "e1889697"
      },
      "outputs": [],
      "source": [
        "%%bash\n",
        "mkdir -p notebooks/examples/\n",
        "cat << EOF > notebooks/examples/langchain_agent.py\n",
        "import os\n",
        "from langchain import hub\n",
        "from langchain.agents import AgentExecutor\n",
        "from langchain.agents import create_react_agent\n",
        "from langchain_nvidia_ai_endpoints import ChatNVIDIA\n",
        "from langchain_community.tools.tavily_search import TavilySearchResults\n",
        "\n",
        "# Initialize a tool to search the web\n",
        "tavily_kwargs = {\"max_results\": 2, \"api_key\": os.getenv(\"TAVILY_API_KEY\")}\n",
        "search = TavilySearchResults(**tavily_kwargs)\n",
        "\n",
        "# Create a list of tools for the agent\n",
        "tools = [search]\n",
        "\n",
        "# Initialize a LLM client\n",
        "llm_kwargs = {\n",
        "    \"model_name\": \"meta/llama-3.3-70b-instruct\",\n",
        "    \"temperature\": 0.0,\n",
        "    \"max_tokens\": 1024,\n",
        "    \"api_key\": os.getenv(\"NVIDIA_API_KEY\"),\n",
        "}\n",
        "llm = ChatNVIDIA(**llm_kwargs)\n",
        "\n",
        "# Use an open source prompt\n",
        "prompt = hub.pull(\"hwchase17/react-chat\")\n",
        "\n",
        "# Initialize a ReAct agent\n",
        "react_agent = create_react_agent(llm=llm, tools=tools, prompt=prompt, stop_sequence=[\"\\nObservation\"])\n",
        "\n",
        "# Initialize an agent executor to iterate through reasoning steps\n",
        "agent_executor = AgentExecutor(agent=react_agent,\n",
        "                               tools=tools,\n",
        "                               max_iterations=15,\n",
        "                               handle_parsing_errors=True,\n",
        "                               verbose=True)\n",
        "\n",
        "# Invoke the agent with a user query\n",
        "response = agent_executor.invoke({\"input\": \"What is the current update on the India China meetings?\", \"chat_history\": []})\n",
        "\n",
        "# Print the response\n",
        "print(response[\"output\"])\n",
        "EOF"
      ]
    },
    {
      "cell_type": "markdown",
      "id": "fbfad1ae",
      "metadata": {
        "id": "fbfad1ae"
      },
      "source": [
        "### 🚀 Running the LangChain Agent\n",
        "This executes our ReAct agent with a real-world query about current events.\n",
        "\n",
        "**What to Expect:**\n",
        "1. **Initial Reasoning**: The agent analyzes the question\n",
        "2. **Search Action**: Searches for recent India-China meeting information  \n",
        "3. **Result Processing**: Analyzes search results\n",
        "4. **Response Generation**: Synthesizes a comprehensive answer\n",
        "5. **Verbose Output**: Shows the complete reasoning process\n"
      ]
    },
    {
      "cell_type": "code",
      "execution_count": 4,
      "id": "84361f94",
      "metadata": {
        "colab": {
          "base_uri": "https://localhost:8080/"
        },
        "id": "84361f94",
        "outputId": "125619cc-5a07-4817-f505-1e6db690b830"
      },
      "outputs": [
        {
          "output_type": "stream",
          "name": "stdout",
          "text": [
            "/content/notebooks/examples/langchain_agent.py:10: LangChainDeprecationWarning: The class `TavilySearchResults` was deprecated in LangChain 0.3.25 and will be removed in 1.0. An updated version of the class exists in the :class:`~langchain-tavily package and should be used instead. To use it run `pip install -U :class:`~langchain-tavily` and import as `from :class:`~langchain_tavily import TavilySearch``.\n",
            "  search = TavilySearchResults(**tavily_kwargs)\n",
            "/content/notebooks/examples/langchain_agent.py:22: DeprecationWarning: The 'max_tokens' parameter is deprecated and will be removed in a future version. Please use 'max_completion_tokens' instead.\n",
            "  llm = ChatNVIDIA(**llm_kwargs)\n",
            "\n",
            "\n",
            "\u001b[1m> Entering new AgentExecutor chain...\u001b[0m\n",
            "\u001b[32;1m\u001b[1;3mThought: Do I need to use a tool? Yes\n",
            "Action: tavily_search_results_json\n",
            "Action Input: \"India China meetings current update\"\u001b[0m\u001b[36;1m\u001b[1;3m[{'title': 'China in the Indo-Pacific: August 2025', 'url': 'https://www.cfr.org/article/china-indo-pacific-august-2025', 'content': \"of Foreign Affairs and India’s Ministry of External Affairs. Though the SR talks remain focused on eventually achieving formal delimitation, both parties agreed to resume direct flights between the two countries, reinvigorate cross-border trade in controlled locations along the LAC, and ease visa issuances for tourists, businesses, and members of the media after the most recent round of dialogue. [...] Pradesh. Wang also met with Prime Minister Narendra Modi ahead of Modi’s visit to China for the 2025 Shanghai Cooperation Organization (SCO) Summit. In discussions with Indian External Affairs Minister Subramaniam Jaishankar, Wang declared that China and India should view each other as “partners” as opposed to “adversaries or threats.” The foreign ministers’ dialogue on August 18 marked the first meeting between the two officials in three years, after armed confrontations in the Galwan Valley [...] Indian Prime Minister Narendra Modi talks with Russian President Vladimir Putin and Chinese President Xi Jinping ahead of the Shanghai Cooperation Organization (SCO) Summit 2025 at the Meijiang Convention and Exhibition Centre in Tianjin, China.\\n\\nChina's engagement in the Indo-Pacific was dominated by the Shanghai Cooperation Organization Summit.\\n\\nArticle\\nby\\nAbi McGowan and\\nAnnabel Richter\\n\\nSeptember 30, 2025 11:47 am (EST)\", 'score': 0.6765563}, {'title': 'India, China to Restart Direct Flights as Bilateral Ties Warm ...', 'url': 'https://www.bloomberg.com/news/articles/2025-10-02/india-china-to-restart-direct-flights-as-bilateral-ties-warm-up?srnd=homepage-europe', 'content': '### Industry Products\\n\\n### Media\\n\\n### Media Services\\n\\n### Bloomberg\\n\\nConnecting decision makers to a dynamic network of information, people and ideas, Bloomberg quickly and accurately delivers business and financial information, news and insight around the world\\n\\n### For Customers\\n\\n### Support\\n\\nAmericas+1 212 318 2000\\n\\nEMEA+44 20 7330 7500\\n\\nAsia Pacific+65 6212 1000\\n\\nIndia-China Relations:\\n\\n# India, China to Start Direct Flights This Month as Ties Warm [...] IndiGo has expressed willingness to start flights between India and China.\\n\\nIndiGo has expressed willingness to start flights between India and China.\\n\\nFollow Bloomberg India on WhatsApp for exclusive content and analysis on what billionaires, businesses and markets are doing. Sign up here. [...] ### Bloomberg\\n\\nConnecting decision makers to a dynamic network of information, people and ideas, Bloomberg quickly and accurately delivers business and financial information, news and insight around the world\\n\\n### For Customers\\n\\n### Support\\n\\nAmericas+1 212 318 2000\\n\\nEMEA+44 20 7330 7500\\n\\nAsia Pacific+65 6212 1000\\n\\n### Company\\n\\n### Communications\\n\\n### Follow\\n\\n### Products\\n\\n### Industry Products\\n\\n### Media\\n\\n### Media Services\\n\\n### Company\\n\\n### Communications\\n\\n### Follow\\n\\n### Products', 'score': 0.2842883}]\u001b[0m\u001b[32;1m\u001b[1;3mThought: Do I need to use a tool? No\n",
            "Final Answer: The current update on the India-China meetings is that the two countries have agreed to resume direct flights between them, reinvigorate cross-border trade in controlled locations along the Line of Actual Control (LAC), and ease visa issuances for tourists, businesses, and members of the media. The two countries have also declared that they should view each other as \"partners\" rather than \"adversaries or threats.\" This development comes after a recent round of dialogue between the two countries, which marked the first meeting between their foreign ministers in three years.\u001b[0m\n",
            "\n",
            "\u001b[1m> Finished chain.\u001b[0m\n",
            "The current update on the India-China meetings is that the two countries have agreed to resume direct flights between them, reinvigorate cross-border trade in controlled locations along the Line of Actual Control (LAC), and ease visa issuances for tourists, businesses, and members of the media. The two countries have also declared that they should view each other as \"partners\" rather than \"adversaries or threats.\" This development comes after a recent round of dialogue between the two countries, which marked the first meeting between their foreign ministers in three years.\n"
          ]
        }
      ],
      "source": [
        "!python notebooks/examples/langchain_agent.py #Run the agent"
      ]
    },
    {
      "cell_type": "markdown",
      "id": "8fa56178",
      "metadata": {
        "id": "8fa56178"
      },
      "source": [
        "# 🔄 Step 4: Transitioning to NAT Framework\n",
        "\n",
        "## From LangChain to NAT\n",
        "Now that you understand how ReAct agents work, let's see how NAT simplifies and enhances the agent development process. NAT provides:\n",
        "\n",
        "- **Simplified Configuration**: YAML-based setup instead of complex code\n",
        "- **Built-in Components**: Pre-configured tools and models\n",
        "- **Production Features**: Monitoring, scaling, and deployment tools\n",
        "- **Standardized Workflows**: Consistent patterns across different agent types\n"
      ]
    },
    {
      "cell_type": "markdown",
      "id": "wVenHtOb1efu",
      "metadata": {
        "id": "wVenHtOb1efu"
      },
      "source": [
        "## Port this Agent into NAT"
      ]
    },
    {
      "cell_type": "markdown",
      "id": "5dd69683",
      "metadata": {
        "id": "5dd69683"
      },
      "source": [
        "### 🏗️ Creating a NAT Workflow\n",
        "This command creates a new NAT workflow template with all the necessary files and structure.\n"
      ]
    },
    {
      "cell_type": "code",
      "execution_count": 5,
      "id": "178c1a16",
      "metadata": {
        "colab": {
          "base_uri": "https://localhost:8080/"
        },
        "id": "178c1a16",
        "outputId": "c98a831d-0f27-4338-f6a4-e17d658ad705"
      },
      "outputs": [
        {
          "output_type": "stream",
          "name": "stdout",
          "text": [
            "Installing workflow 'my_agent_workflow'...\n",
            "Workflow 'my_agent_workflow' installed successfully.\n",
            "Workflow 'my_agent_workflow' created successfully in '/content/notebooks/examples/my_agent_workflow'.\n",
            "\u001b[0m\u001b[0m"
          ]
        }
      ],
      "source": [
        "!nat workflow create --workflow-dir notebooks/examples my_agent_workflow"
      ]
    },
    {
      "cell_type": "markdown",
      "id": "a05c048b",
      "metadata": {
        "id": "a05c048b"
      },
      "source": [
        "### 🎯 Running the NAT Agent\n",
        "This demonstrates running the same functionality using NAT's streamlined approach.\n",
        "\n",
        "**Advantages of NAT:**\n",
        "- **Cleaner Configuration**: All settings in a YAML file\n",
        "- **Better Error Handling**: Built-in retry and error recovery\n",
        "- **Performance Monitoring**: Automatic metrics collection\n",
        "- **Easier Deployment**: Production-ready out of the box\n"
      ]
    },
    {
      "cell_type": "code",
      "execution_count": 17,
      "id": "c1e436e9",
      "metadata": {
        "colab": {
          "base_uri": "https://localhost:8080/"
        },
        "id": "c1e436e9",
        "outputId": "47443b72-144a-40bb-9a0e-9fa6fd165e94"
      },
      "outputs": [
        {
          "output_type": "stream",
          "name": "stdout",
          "text": [
            "2025-10-03 10:52:39,865 - nat.cli.commands.start - INFO - Starting NAT from config file: 'notebooks/examples/my_agent_workflow/configs/config.yml'\n",
            "/content/notebooks/examples/my_agent_workflow/src/my_agent_workflow/my_agent_workflow_function.py:33: LangChainDeprecationWarning: The class `TavilySearchResults` was deprecated in LangChain 0.3.25 and will be removed in 1.0. An updated version of the class exists in the :class:`~langchain-tavily package and should be used instead. To use it run `pip install -U :class:`~langchain-tavily` and import as `from :class:`~langchain_tavily import TavilySearch``.\n",
            "  search = TavilySearchResults(**tavily_kwargs)\n",
            "\n",
            "Configuration Summary:\n",
            "--------------------\n",
            "Workflow Type: my_agent_workflow\n",
            "Number of Functions: 0\n",
            "Number of LLMs: 0\n",
            "Number of Embedders: 0\n",
            "Number of Memory: 0\n",
            "Number of Object Stores: 0\n",
            "Number of Retrievers: 0\n",
            "Number of TTC Strategies: 0\n",
            "Number of Authentication Providers: 0\n",
            "\n",
            "\n",
            "\n",
            "\u001b[1m> Entering new AgentExecutor chain...\u001b[0m\n",
            "\u001b[32;1m\u001b[1;3mThought: Do I need to use a tool? Yes\n",
            "Action: tavily_search_results_json\n",
            "Action Input: \"India China meetings current update\"\u001b[0m\u001b[36;1m\u001b[1;3m[{'title': 'India, China to resume direct flights after 5 years as ...', 'url': 'https://www.aljazeera.com/news/2025/10/3/india-china-to-resume-direct-flights-after-5-years-as-relations-thaw', 'content': '# India, China to resume direct flights after 5 years as relations thaw\\n\\nLatest move underscores efforts to normalise ties and draw closer in wake of Trump’s policies, stiff tariffs.\\n\\nChinese President Xi Jinping and India Prime Minister Narendra Modi meet on the sidelines of the BRICS summit in Kazan, Russia October 23, 2024. China Daily via REUTERS ATTENTION EDITORS - THIS IMAGE WAS PROVIDED BY A THIRD PARTY. CHINA OUT.\\n\\nBy News Agencies\\n\\nShare\\n\\nSave [...] There, Modi and Chinese President Xi Jinping agreed that India and China were development partners, not rivals, and discussed ways to strengthen trade ties amid global tariff uncertainty fuelled by Trump. [...] The resumption is part of the Indian government’s “approach towards gradual normalization of relations between India and China,” the embassy added.\\n\\nIndia’s largest carrier IndiGo announced on Thursday that it would resume flights from Kolkata, India, to Guangzhou, China, from October 26.\\n\\nThe resumption comes after Indian Prime Minister Narendra Modi visited China for the first time in seven years to attend last month’s meeting of regional security bloc, the Shanghai Cooperation Organisation.', 'score': 0.62358373}, {'title': 'China-India relations: Latest News and Updates', 'url': 'https://www.scmp.com/topics/china-india-relations', 'content': 'Latest news, analysis and opinion on relations between China and India, including the relationship between Narendra Modi and Xi Jinping and other issues', 'score': 0.5248093}]\u001b[0m\u001b[32;1m\u001b[1;3mThought: Do I need to use a tool? No\n",
            "Final Answer: The current update on the India-China meetings is that they have agreed to resume direct flights after a 5-year hiatus, as part of their efforts to normalize ties and strengthen trade relations. The resumption of flights is seen as a positive step towards improving relations between the two countries, which have been strained in recent years.\u001b[0m\n",
            "\n",
            "\u001b[1m> Finished chain.\u001b[0m\n",
            "2025-10-03 10:52:53,355 - nat.front_ends.console.console_front_end_plugin - INFO - \n",
            "--------------------------------------------------\n",
            "\u001b[32mWorkflow Result:\n",
            "['The current update on the India-China meetings is that they have agreed to resume direct flights after a 5-year hiatus, as part of their efforts to normalize ties and strengthen trade relations. The resumption of flights is seen as a positive step towards improving relations between the two countries, which have been strained in recent years.']\u001b[39m\n",
            "--------------------------------------------------\n",
            "Cleaning up my_agent_workflow1 workflow.\n",
            "\u001b[0m\u001b[0m"
          ]
        }
      ],
      "source": [
        "!nat run --config_file notebooks/examples/my_agent_workflow/configs/config.yml --input \"What is the current update on the India China meetings?\""
      ]
    },
    {
      "cell_type": "markdown",
      "id": "4a64d0bf",
      "metadata": {
        "id": "4a64d0bf"
      },
      "source": [
        "# 🔍 Step 5: Exploring NAT's Built-in Components\n",
        "\n",
        "## Discovering Available Tools\n",
        "NAT comes with a rich ecosystem of pre-built components. Let's explore what's available for building more sophisticated agents.\n",
        "\n",
        "### 🔎 Finding Search Tools\n",
        "This command searches for available internet search components in the NAT ecosystem.\n"
      ]
    },
    {
      "cell_type": "code",
      "execution_count": 7,
      "id": "bdb87ad7",
      "metadata": {
        "colab": {
          "base_uri": "https://localhost:8080/"
        },
        "id": "bdb87ad7",
        "outputId": "eda50226-f3a4-4fdc-a1f4-3f6abca834a2"
      },
      "outputs": [
        {
          "output_type": "stream",
          "name": "stdout",
          "text": [
            "                               NAT Search Results                               \n",
            "┏━━━━━━━━━━━━━━━━┳━━━━━━━━━┳━━━━━━━━━━━━━━━━┳━━━━━━━━━━━━━━━━┳━━━━━━━━━━━━━━━━━┓\n",
            "┃ package        ┃ version ┃ component_type ┃ component_name ┃ description     ┃\n",
            "┡━━━━━━━━━━━━━━━━╇━━━━━━━━━╇━━━━━━━━━━━━━━━━╇━━━━━━━━━━━━━━━━╇━━━━━━━━━━━━━━━━━┩\n",
            "│ nvidia-nat-lan │ 1.2.1   │ function       │ tavily_interne │ Tool that       │\n",
            "│ gchain         │         │                │ t_search       │ retrieves       │\n",
            "│                │         │                │                │ relevant        │\n",
            "│                │         │                │                │ contexts from   │\n",
            "│                │         │                │                │ web search      │\n",
            "│                │         │                │                │ (using Tavily)  │\n",
            "│                │         │                │                │ for the given   │\n",
            "│                │         │                │                │ question.       │\n",
            "│                │         │                │                │     Requires a  │\n",
            "│                │         │                │                │ TAVILY_API_KEY. │\n",
            "│                │         │                │                │                 │\n",
            "│                │         │                │                │   Args:         │\n",
            "│                │         │                │                │     _type       │\n",
            "│                │         │                │                │ (str): The type │\n",
            "│                │         │                │                │ of the object.  │\n",
            "│                │         │                │                │     max_results │\n",
            "│                │         │                │                │ (int):          │\n",
            "│                │         │                │                │ Description     │\n",
            "│                │         │                │                │ unavailable.    │\n",
            "│                │         │                │                │ Defaults to 3.  │\n",
            "│                │         │                │                │     api_key     │\n",
            "│                │         │                │                │ (str):          │\n",
            "│                │         │                │                │ Description     │\n",
            "│                │         │                │                │ unavailable.    │\n",
            "│                │         │                │                │ Defaults to \"\". │\n",
            "└────────────────┴─────────┴────────────────┴────────────────┴─────────────────┘\n",
            "2025-10-03 08:20:58,548 - nat.registry_handlers.local.local_handler - INFO - Execution complete.\n",
            "\u001b[0m\u001b[0m"
          ]
        }
      ],
      "source": [
        "!nat info components -t function -q tavily_internet_search"
      ]
    },
    {
      "cell_type": "markdown",
      "id": "2882a924",
      "metadata": {
        "id": "2882a924"
      },
      "source": [
        "### ⚡ Using Built-in NAT Components\n",
        "Instead of manually configuring LangChain components, we can use NAT's pre-built, optimized tools.\n"
      ]
    },
    {
      "cell_type": "markdown",
      "id": "xGaaqZDIQ8_0",
      "metadata": {
        "id": "xGaaqZDIQ8_0"
      },
      "source": [
        "### *Now lets use the NAT in built search tool. We need to modify the config file as below.*"
      ]
    },
    {
      "cell_type": "markdown",
      "id": "2601360b",
      "metadata": {
        "id": "2601360b"
      },
      "source": [
        "### 📝 Creating an Enhanced Configuration\n",
        "This configuration uses NAT's built-in components for better performance and reliability.\n",
        "\n",
        "**Key Improvements:**\n",
        "- **Built-in Search**: Optimized Tavily integration\n",
        "- **Better LLM Configuration**: Enhanced NVIDIA NIM integration  \n",
        "- **Production Settings**: Proper logging and error handling\n",
        "- **Scalable Architecture**: Ready for multi-user deployment\n"
      ]
    },
    {
      "cell_type": "code",
      "execution_count": 8,
      "id": "6e44b9a1",
      "metadata": {
        "id": "6e44b9a1"
      },
      "outputs": [],
      "source": [
        "%%bash\n",
        "\n",
        "# Modify the config file\n",
        "cat <<EOF > notebooks/examples/my_agent_workflow/configs/config_modified.yml\n",
        "general:\n",
        "  use_uvloop: true\n",
        "  logging:\n",
        "    console:\n",
        "      _type: console\n",
        "      level: WARN\n",
        "\n",
        "llms:\n",
        "  nim_llm:\n",
        "    _type: nim\n",
        "    model_name: meta/llama-3.3-70b-instruct\n",
        "    temperature: 0.0\n",
        "    max_tokens: 1024\n",
        "    api_key: $NVIDIA_API_KEY\n",
        "\n",
        "functions:\n",
        "  my_internet_search:\n",
        "    _type: tavily_internet_search\n",
        "    max_results: 2\n",
        "    api_key: $TAVILY_API_KEY\n",
        "\n",
        "workflow:\n",
        "  _type: my_agent_workflow\n",
        "  tool_names:\n",
        "    - my_internet_search\n",
        "  llm_name: nim_llm\n",
        "  max_history: 10\n",
        "  max_iterations: 15\n",
        "  description: \"A helpful assistant that can search the internet for information\"\n",
        "\n",
        "EOF"
      ]
    },
    {
      "cell_type": "markdown",
      "id": "524ef719",
      "metadata": {
        "id": "524ef719"
      },
      "source": [
        "### 🚀 Running the Enhanced NAT Agent\n",
        "This runs our improved agent configuration with NAT's built-in components.\n"
      ]
    },
    {
      "cell_type": "code",
      "execution_count": 18,
      "id": "f02cdb77",
      "metadata": {
        "colab": {
          "base_uri": "https://localhost:8080/"
        },
        "id": "f02cdb77",
        "outputId": "0da269a2-35e9-43d0-c3a3-312d94041b5a"
      },
      "outputs": [
        {
          "output_type": "stream",
          "name": "stdout",
          "text": [
            "2025-10-03 10:57:16,543 - nat.cli.commands.start - INFO - Starting NAT from config file: 'notebooks/examples/my_agent_workflow/configs/config_modified.yml'\n",
            "/content/notebooks/examples/my_agent_workflow/src/my_agent_workflow/my_agent_workflow_function.py:33: LangChainDeprecationWarning: The class `TavilySearchResults` was deprecated in LangChain 0.3.25 and will be removed in 1.0. An updated version of the class exists in the :class:`~langchain-tavily package and should be used instead. To use it run `pip install -U :class:`~langchain-tavily` and import as `from :class:`~langchain_tavily import TavilySearch``.\n",
            "  search = TavilySearchResults(**tavily_kwargs)\n",
            "\n",
            "Configuration Summary:\n",
            "--------------------\n",
            "Workflow Type: my_agent_workflow\n",
            "Number of Functions: 1\n",
            "Number of LLMs: 1\n",
            "Number of Embedders: 0\n",
            "Number of Memory: 0\n",
            "Number of Object Stores: 0\n",
            "Number of Retrievers: 0\n",
            "Number of TTC Strategies: 0\n",
            "Number of Authentication Providers: 0\n",
            "\n",
            "\n",
            "\n",
            "\u001b[1m> Entering new AgentExecutor chain...\u001b[0m\n",
            "\u001b[32;1m\u001b[1;3mThought: Do I need to use a tool? Yes\n",
            "Action: tavily_search_results_json\n",
            "Action Input: \"India China meetings current update\"\u001b[0m\u001b[36;1m\u001b[1;3m[{'title': 'India-China Relations Take Center Stage at SCO Summit ...', 'url': 'https://www.china-briefing.com/china-outbound-news/india-china-relations-take-center-stage-at-sco-summit-2025', 'content': 'Sep 2, 2025—The 25th Shanghai Cooperation Organisation (SCO) Summit, held from August 31 to September 1,2025, bringsIndia-Chinaties into focus,', 'score': 0.67321366}, {'title': 'India, China to resume direct flights after 5 years as ...', 'url': 'https://www.aljazeera.com/news/2025/10/3/india-china-to-resume-direct-flights-after-5-years-as-relations-thaw', 'content': '# India, China to resume direct flights after 5 years as relations thaw\\n\\nLatest move underscores efforts to normalise ties and draw closer in wake of Trump’s policies, stiff tariffs.\\n\\nChinese President Xi Jinping and India Prime Minister Narendra Modi meet on the sidelines of the BRICS summit in Kazan, Russia October 23, 2024. China Daily via REUTERS ATTENTION EDITORS - THIS IMAGE WAS PROVIDED BY A THIRD PARTY. CHINA OUT.\\n\\nBy News Agencies\\n\\nShare\\n\\nSave [...] There, Modi and Chinese President Xi Jinping agreed that India and China were development partners, not rivals, and discussed ways to strengthen trade ties amid global tariff uncertainty fuelled by Trump. [...] The resumption is part of the Indian government’s “approach towards gradual normalization of relations between India and China,” the embassy added.\\n\\nIndia’s largest carrier IndiGo announced on Thursday that it would resume flights from Kolkata, India, to Guangzhou, China, from October 26.\\n\\nThe resumption comes after Indian Prime Minister Narendra Modi visited China for the first time in seven years to attend last month’s meeting of regional security bloc, the Shanghai Cooperation Organisation.', 'score': 0.62330866}]\u001b[0m\u001b[32;1m\u001b[1;3mThought: Do I need to use a tool? No\n",
            "Final Answer: The current update on the India-China meetings is that they have taken center stage at the SCO Summit 2025, with both countries agreeing to resume direct flights after a 5-year hiatus. The move is seen as a step towards normalizing ties and strengthening trade relations between the two nations.\u001b[0m\n",
            "\n",
            "\u001b[1m> Finished chain.\u001b[0m\n",
            "2025-10-03 10:57:29,131 - nat.front_ends.console.console_front_end_plugin - INFO - \n",
            "--------------------------------------------------\n",
            "\u001b[32mWorkflow Result:\n",
            "['The current update on the India-China meetings is that they have taken center stage at the SCO Summit 2025, with both countries agreeing to resume direct flights after a 5-year hiatus. The move is seen as a step towards normalizing ties and strengthening trade relations between the two nations.']\u001b[39m\n",
            "--------------------------------------------------\n",
            "Cleaning up my_agent_workflow1 workflow.\n",
            "\u001b[0m\u001b[0m"
          ]
        }
      ],
      "source": [
        "!nat run --config_file notebooks/examples/my_agent_workflow/configs/config_modified.yml --input \"What is the current update on the India China meetings?\"\n"
      ]
    },
    {
      "cell_type": "markdown",
      "id": "8d520392",
      "metadata": {
        "id": "8d520392"
      },
      "source": [
        "# 🔧 Step 6: Exploring NAT's Built-in ReAct Agent\n",
        "\n",
        "## Native NAT ReAct Implementation\n",
        "NAT provides its own optimized ReAct agent implementation that offers better performance and additional features compared to the LangChain version.\n",
        "\n",
        "### 🔍 Finding ReAct Components\n",
        "Let's discover NAT's native ReAct agent capabilities.\n"
      ]
    },
    {
      "cell_type": "markdown",
      "id": "OWeoF8-oRozM",
      "metadata": {
        "id": "OWeoF8-oRozM"
      },
      "source": [
        "## NAT in built ReAct Agent"
      ]
    },
    {
      "cell_type": "markdown",
      "id": "d6b4b9f0",
      "metadata": {
        "id": "d6b4b9f0"
      },
      "source": [
        "### ⚙️ Configuring Native NAT ReAct Agent\n",
        "This configuration uses NAT's native ReAct implementation for optimal performance.\n",
        "\n",
        "**Benefits of NAT's ReAct Agent:**\n",
        "- **Optimized Performance**: Faster reasoning and execution\n",
        "- **Better Memory Management**: Efficient handling of conversation history\n",
        "- **Enhanced Error Recovery**: Robust handling of tool failures\n",
        "- **Production Monitoring**: Built-in metrics and logging\n"
      ]
    },
    {
      "cell_type": "code",
      "execution_count": 10,
      "id": "46HjOnmbYbzM",
      "metadata": {
        "colab": {
          "base_uri": "https://localhost:8080/"
        },
        "id": "46HjOnmbYbzM",
        "outputId": "ef0dd633-2dee-4ec8-b487-3005a120a6de"
      },
      "outputs": [
        {
          "output_type": "stream",
          "name": "stdout",
          "text": [
            "                               NAT Search Results                               \n",
            "┏━━━━━━━━━━━━┳━━━━━━━━━┳━━━━━━━━━━━━━━━━┳━━━━━━━━━━━━━━━━┳━━━━━━━━━━━━━━━━━━━━━┓\n",
            "┃ package    ┃ version ┃ component_type ┃ component_name ┃ description         ┃\n",
            "┡━━━━━━━━━━━━╇━━━━━━━━━╇━━━━━━━━━━━━━━━━╇━━━━━━━━━━━━━━━━╇━━━━━━━━━━━━━━━━━━━━━┩\n",
            "│ nvidia-nat │ 1.2.1   │ function       │ react_agent    │ Defines a NAT       │\n",
            "│            │         │                │                │ function that uses  │\n",
            "│            │         │                │                │ a ReAct Agent       │\n",
            "│            │         │                │                │ performs reasoning  │\n",
            "│            │         │                │                │ inbetween tool      │\n",
            "│            │         │                │                │ calls, and utilizes │\n",
            "│            │         │                │                │ the                 │\n",
            "│            │         │                │                │     tool names and  │\n",
            "│            │         │                │                │ descriptions to     │\n",
            "│            │         │                │                │ select the optimal  │\n",
            "│            │         │                │                │ tool.               │\n",
            "│            │         │                │                │                     │\n",
            "│            │         │                │                │   Args:             │\n",
            "│            │         │                │                │     _type (str):    │\n",
            "│            │         │                │                │ The type of the     │\n",
            "│            │         │                │                │ object.             │\n",
            "│            │         │                │                │     tool_names      │\n",
            "│            │         │                │                │ (list): The list of │\n",
            "│            │         │                │                │ tools to provide to │\n",
            "│            │         │                │                │ the react agent.    │\n",
            "│            │         │                │                │ Defaults to None.   │\n",
            "│            │         │                │                │     llm_name        │\n",
            "│            │         │                │                │ (LLMRef): The LLM   │\n",
            "│            │         │                │                │ model to use with   │\n",
            "│            │         │                │                │ the react agent.    │\n",
            "│            │         │                │                │     verbose (bool): │\n",
            "│            │         │                │                │ Set the verbosity   │\n",
            "│            │         │                │                │ of the react        │\n",
            "│            │         │                │                │ agent's logging.    │\n",
            "│            │         │                │                │ Defaults to False.  │\n",
            "│            │         │                │                │     retry_agent_res │\n",
            "│            │         │                │                │ ponse_parsing_error │\n",
            "│            │         │                │                │ s (bool): Whether   │\n",
            "│            │         │                │                │ to retry when       │\n",
            "│            │         │                │                │ encountering        │\n",
            "│            │         │                │                │ parsing errors in   │\n",
            "│            │         │                │                │ the agent's         │\n",
            "│            │         │                │                │ response. Defaults  │\n",
            "│            │         │                │                │ to True.            │\n",
            "│            │         │                │                │     parse_agent_res │\n",
            "│            │         │                │                │ ponse_max_retries   │\n",
            "│            │         │                │                │ (int): Maximum      │\n",
            "│            │         │                │                │ number of times the │\n",
            "│            │         │                │                │ Agent may retry     │\n",
            "│            │         │                │                │ parsing errors.     │\n",
            "│            │         │                │                │ Prevents the Agent  │\n",
            "│            │         │                │                │ from getting into   │\n",
            "│            │         │                │                │ infinite            │\n",
            "│            │         │                │                │ hallucination       │\n",
            "│            │         │                │                │ loops. Defaults to  │\n",
            "│            │         │                │                │ 1.                  │\n",
            "│            │         │                │                │     tool_call_max_r │\n",
            "│            │         │                │                │ etries (int): The   │\n",
            "│            │         │                │                │ number of retries   │\n",
            "│            │         │                │                │ before raising a    │\n",
            "│            │         │                │                │ tool call error.    │\n",
            "│            │         │                │                │ Defaults to 1.      │\n",
            "│            │         │                │                │     max_tool_calls  │\n",
            "│            │         │                │                │ (int): Maximum      │\n",
            "│            │         │                │                │ number of tool      │\n",
            "│            │         │                │                │ calls before        │\n",
            "│            │         │                │                │ stopping the agent. │\n",
            "│            │         │                │                │ Defaults to 15.     │\n",
            "│            │         │                │                │     pass_tool_call_ │\n",
            "│            │         │                │                │ errors_to_agent     │\n",
            "│            │         │                │                │ (bool): Whether to  │\n",
            "│            │         │                │                │ pass tool call      │\n",
            "│            │         │                │                │ errors to agent. If │\n",
            "│            │         │                │                │ False, failed tool  │\n",
            "│            │         │                │                │ calls will raise an │\n",
            "│            │         │                │                │ exception. Defaults │\n",
            "│            │         │                │                │ to True.            │\n",
            "│            │         │                │                │     include_tool_in │\n",
            "│            │         │                │                │ put_schema_in_tool_ │\n",
            "│            │         │                │                │ description (bool): │\n",
            "│            │         │                │                │ Specify inclusion   │\n",
            "│            │         │                │                │ of tool input       │\n",
            "│            │         │                │                │ schemas in the      │\n",
            "│            │         │                │                │ prompt. Defaults to │\n",
            "│            │         │                │                │ True.               │\n",
            "│            │         │                │                │     description     │\n",
            "│            │         │                │                │ (str): The          │\n",
            "│            │         │                │                │ description of this │\n",
            "│            │         │                │                │ functions use.      │\n",
            "│            │         │                │                │ Defaults to \"ReAct  │\n",
            "│            │         │                │                │ Agent Workflow\".    │\n",
            "│            │         │                │                │     system_prompt   │\n",
            "│            │         │                │                │ (str | None):       │\n",
            "│            │         │                │                │ Provides the        │\n",
            "│            │         │                │                │ SYSTEM_PROMPT to    │\n",
            "│            │         │                │                │ use with the agent. │\n",
            "│            │         │                │                │ Defaults to None.   │\n",
            "│            │         │                │                │     max_history     │\n",
            "│            │         │                │                │ (int): Maximum      │\n",
            "│            │         │                │                │ number of messages  │\n",
            "│            │         │                │                │ to keep in the      │\n",
            "│            │         │                │                │ conversation        │\n",
            "│            │         │                │                │ history. Defaults   │\n",
            "│            │         │                │                │ to 15.              │\n",
            "│            │         │                │                │     use_openai_api  │\n",
            "│            │         │                │                │ (bool): Use OpenAI  │\n",
            "│            │         │                │                │ API for the         │\n",
            "│            │         │                │                │ input/output types  │\n",
            "│            │         │                │                │ to the function. If │\n",
            "│            │         │                │                │ False, strings will │\n",
            "│            │         │                │                │ be used. Defaults   │\n",
            "│            │         │                │                │ to False.           │\n",
            "│            │         │                │                │     additional_inst │\n",
            "│            │         │                │                │ ructions (str |     │\n",
            "│            │         │                │                │ None): Additional   │\n",
            "│            │         │                │                │ instructions to     │\n",
            "│            │         │                │                │ provide to the      │\n",
            "│            │         │                │                │ agent in addition   │\n",
            "│            │         │                │                │ to the base prompt. │\n",
            "│            │         │                │                │ Defaults to None.   │\n",
            "└────────────┴─────────┴────────────────┴────────────────┴─────────────────────┘\n",
            "2025-10-03 08:23:59,007 - nat.registry_handlers.local.local_handler - INFO - Execution complete.\n",
            "\u001b[0m\u001b[0m"
          ]
        }
      ],
      "source": [
        "!nat info components -t function -q react_agent"
      ]
    },
    {
      "cell_type": "markdown",
      "id": "99f0a657",
      "metadata": {
        "id": "99f0a657"
      },
      "source": [
        "### 🎯 Running NAT's Native ReAct Agent\n",
        "Experience the performance and reliability improvements of NAT's optimized ReAct implementation.\n"
      ]
    },
    {
      "cell_type": "code",
      "execution_count": 11,
      "id": "nS3qzV7YRn1P",
      "metadata": {
        "id": "nS3qzV7YRn1P"
      },
      "outputs": [],
      "source": [
        "%%bash\n",
        "\n",
        "# Modify the config file\n",
        "cat <<EOF > notebooks/examples/my_agent_workflow/configs/config_modified_nat.yml\n",
        "general:\n",
        "  use_uvloop: true\n",
        "  logging:\n",
        "    console:\n",
        "      _type: console\n",
        "      level: WARN\n",
        "\n",
        "llms:\n",
        "  nim_llm:\n",
        "    _type: nim\n",
        "    model_name: meta/llama-3.3-70b-instruct\n",
        "    temperature: 0.0\n",
        "    max_tokens: 1024\n",
        "    api_key: $NVIDIA_API_KEY\n",
        "\n",
        "functions:\n",
        "  my_internet_search:\n",
        "    _type: tavily_internet_search\n",
        "    max_results: 2\n",
        "    api_key: $TAVILY_API_KEY\n",
        "\n",
        "workflow:\n",
        "  _type: react_agent\n",
        "  tool_names:\n",
        "    - my_internet_search\n",
        "  llm_name: nim_llm\n",
        "  max_history: 10\n",
        "  max_iterations: 15\n",
        "  description: \"A helpful assistant that can search the internet for information\"\n",
        "\n",
        "EOF"
      ]
    },
    {
      "cell_type": "markdown",
      "id": "006e69d5",
      "metadata": {
        "id": "006e69d5"
      },
      "source": [
        "# 🌐 Step 7: Production Deployment with NAT Serve\n",
        "\n",
        "## Deploying Agents as Web Services\n",
        "NAT makes it easy to deploy your agents as production-ready web services with built-in API endpoints, monitoring, and scaling capabilities.\n",
        "\n",
        "### 🚀 Understanding NAT Serve\n",
        "NAT Serve provides:\n",
        "- **REST API Endpoints**: Standard HTTP interfaces for your agents\n",
        "- **Automatic Scaling**: Handle multiple concurrent requests\n",
        "- **Health Monitoring**: Built-in health checks and metrics\n",
        "- **Security Features**: Authentication and rate limiting\n",
        "- **Documentation**: Auto-generated API documentation\n"
      ]
    },
    {
      "cell_type": "code",
      "execution_count": 19,
      "id": "slbyVr8sR4Lx",
      "metadata": {
        "colab": {
          "base_uri": "https://localhost:8080/"
        },
        "id": "slbyVr8sR4Lx",
        "outputId": "c442afcc-0846-470c-9b8a-80f5795e738b"
      },
      "outputs": [
        {
          "output_type": "stream",
          "name": "stdout",
          "text": [
            "2025-10-03 11:00:46,077 - nat.cli.commands.start - INFO - Starting NAT from config file: 'notebooks/examples/my_agent_workflow/configs/config_modified_nat.yml'\n",
            "\n",
            "Configuration Summary:\n",
            "--------------------\n",
            "Workflow Type: react_agent\n",
            "Number of Functions: 1\n",
            "Number of LLMs: 1\n",
            "Number of Embedders: 0\n",
            "Number of Memory: 0\n",
            "Number of Object Stores: 0\n",
            "Number of Retrievers: 0\n",
            "Number of TTC Strategies: 0\n",
            "Number of Authentication Providers: 0\n",
            "\n",
            "/usr/local/lib/python3.12/dist-packages/nat/plugins/langchain/tools/tavily_internet_search.py:45: LangChainDeprecationWarning: The class `TavilySearchResults` was deprecated in LangChain 0.3.25 and will be removed in 1.0. An updated version of the class exists in the :class:`~langchain-tavily package and should be used instead. To use it run `pip install -U :class:`~langchain-tavily` and import as `from :class:`~langchain_tavily import TavilySearch``.\n",
            "  tavily_search = TavilySearchResults(max_results=tool_config.max_results)\n",
            "2025-10-03 11:01:03,132 - nat.front_ends.console.console_front_end_plugin - INFO - \n",
            "--------------------------------------------------\n",
            "\u001b[32mWorkflow Result:\n",
            "[\"The current update on the India China meetings is that Prime Minister Narendra Modi and Chinese President Xi Jinping met in August 2025 on the sidelines of the Shanghai Cooperation Organization summit in Tianjin, China, and agreed to strengthen trade ties and maintain peace and stability along their disputed border. They also discussed ways to address India's widening trade deficit with China. Additionally, India and China have agreed to resume direct air links, with flights set to restart later in October 2025, and have taken steps to de-escalate tensions along the disputed Himalayan border, including agreeing on patrolling arrangements and allowing Indian pilgrims to visit places of religious importance in the Tibet Autonomous Region.\"]\u001b[39m\n",
            "--------------------------------------------------\n",
            "\u001b[0m\u001b[0m"
          ]
        }
      ],
      "source": [
        "!nat run --config_file notebooks/examples/my_agent_workflow/configs/config_modified_nat.yml --input \"What is the current update on the India China meetings?\""
      ]
    },
    {
      "cell_type": "markdown",
      "id": "6f100b2a",
      "metadata": {
        "id": "6f100b2a"
      },
      "source": [
        "### 🔄 Starting the NAT Server\n",
        "This command starts a background web server that exposes your agent through HTTP APIs.\n",
        "\n",
        "**What Happens:**\n",
        "1. **Server Initialization**: NAT loads your agent configuration\n",
        "2. **API Endpoint Creation**: Creates REST endpoints for chat interactions\n",
        "3. **Background Process**: Runs as a background service\n",
        "4. **Ready for Requests**: Server becomes available at `http://localhost:8000`\n"
      ]
    },
    {
      "cell_type": "markdown",
      "id": "t060v2HSTcTM",
      "metadata": {
        "id": "t060v2HSTcTM"
      },
      "source": [
        "## NAT Serve\n",
        "You can also use the nat serve sub-command to launch a server and make HTTP requests to the endpoints as shown below. Refer to this [documentation](https://https://docs.nvidia.com/nemo/agent-toolkit/latest/reference/api-server-endpoints.html) for more information on available endpoints."
      ]
    },
    {
      "cell_type": "markdown",
      "id": "d35b5785",
      "metadata": {
        "id": "d35b5785"
      },
      "source": [
        "### 📡 Making HTTP Requests to Your Agent\n",
        "This commented example shows how to interact with your deployed agent via HTTP API.\n",
        "\n",
        "**API Features:**\n",
        "- **Standard REST Interface**: Use any HTTP client or programming language\n",
        "- **JSON Communication**: Simple request/response format\n",
        "- **Stateless Design**: Each request is independent\n",
        "- **Scalable**: Can handle multiple concurrent users\n",
        "\n",
        "**Uncomment and run this cell to test the API:**\n",
        "```bash\n",
        "curl --request POST \\\n",
        "  --url http://localhost:8000/chat \\\n",
        "  --header 'Content-Type: application/json' \\\n",
        "  --data '{\n",
        "    \"messages\": [\n",
        "      {\n",
        "        \"role\": \"user\",\n",
        "        \"content\": \"What is the current update on the India China meetings?\"\n",
        "      }\n",
        "    ]\n",
        "}'\n",
        "```\n"
      ]
    },
    {
      "cell_type": "code",
      "execution_count": 13,
      "id": "Mf_VANwbR94A",
      "metadata": {
        "id": "Mf_VANwbR94A"
      },
      "outputs": [],
      "source": [
        "%%bash --bg\n",
        "# This will start background nat service and might take a moment to be ready\n",
        "nat serve --config_file notebooks/examples/my_agent_workflow/configs/config_modified_nat.yml\n"
      ]
    },
    {
      "cell_type": "markdown",
      "id": "1d8684cb",
      "metadata": {
        "id": "1d8684cb"
      },
      "source": [
        "# 🎓 Tutorial Summary and Next Steps\n",
        "\n",
        "## 🏆 Congratulations!\n",
        "You've successfully completed the NAT Getting Started tutorial! Here's what you've accomplished:\n",
        "\n",
        "### ✅ Skills Mastered\n",
        "1. **Agent Fundamentals**: Understanding ReAct agents and their reasoning process\n",
        "2. **LangChain Integration**: Building agents with the LangChain ecosystem\n",
        "3. **NAT Framework**: Leveraging NAT's simplified configuration and built-in components\n",
        "4. **Production Deployment**: Deploying agents as scalable web services\n",
        "5. **API Integration**: Interacting with agents through HTTP APIs\n",
        "\n",
        "### 🛠️ Technologies Used\n",
        "- **NeMo Agent Toolkit (NAT)**: NVIDIA's comprehensive agent framework\n",
        "- **LangChain**: Popular agent and LLM orchestration library\n",
        "- **NVIDIA NIM**: High-performance hosted language models\n",
        "- **Tavily Search**: AI-optimized web search API\n",
        "- **ReAct Pattern**: Reasoning and Acting agent architecture\n",
        "\n",
        "## 🚀 What's Next?\n",
        "\n",
        "### 📈 Advanced Topics to Explore\n",
        "1. **Multi-Agent Systems**: Coordinate multiple agents working together\n",
        "2. **Custom Tools**: Build your own specialized agent tools\n",
        "3. **RAG Integration**: Add retrieval-augmented generation capabilities\n",
        "4. **Memory Systems**: Implement persistent agent memory\n",
        "5. **Evaluation & Monitoring**: Set up comprehensive agent testing\n",
        "\n",
        "### 🔗 Recommended Next Tutorials\n",
        "- **RAG with NAT**: Build knowledge-grounded agents\n",
        "- **Custom Function Development**: Create specialized agent capabilities\n",
        "- **Multi-Modal Agents**: Work with text, images, and other media\n",
        "- **Production Scaling**: Deploy agents at enterprise scale\n",
        "\n",
        "### 📚 Additional Resources\n",
        "- [NAT Documentation](https://docs.nvidia.com/nemo/agent-toolkit/)\n",
        "- [NVIDIA NIM Platform](https://build.nvidia.com)\n",
        "- [LangChain Documentation](https://langchain.com)\n",
        "- [Agent Design Patterns](https://github.com/NVIDIA/NeMo-Agent-Toolkit/tree/main/examples)\n",
        "\n",
        "---\n",
        "\n",
        "## 💡 Key Takeaways\n",
        "\n",
        "**NAT vs Traditional Approaches:**\n",
        "- ✅ **Simplified Configuration**: YAML instead of complex code\n",
        "- ✅ **Production Ready**: Built-in monitoring, scaling, and deployment\n",
        "- ✅ **Optimized Performance**: NVIDIA-optimized components\n",
        "- ✅ **Standardized Patterns**: Consistent architecture across projects\n",
        "\n",
        "**Best Practices Learned:**\n",
        "- Start with simple agents and gradually add complexity\n",
        "- Use built-in components when available for better reliability\n",
        "- Test thoroughly before production deployment\n",
        "- Monitor performance and optimize based on real usage\n",
        "\n",
        "---\n",
        "\n",
        "*Ready to build the next generation of AI agents? Start experimenting with your own use cases! 🚀*\n"
      ]
    },
    {
      "cell_type": "code",
      "execution_count": null,
      "id": "yvK6hpUaTySy",
      "metadata": {
        "id": "yvK6hpUaTySy"
      },
      "outputs": [],
      "source": [
        "# %%bash\n",
        "# # Issue a request to the background service\n",
        "# curl --request POST \\\n",
        "#   --url http://localhost:8000/chat \\\n",
        "#   --header 'Content-Type: application/json' \\\n",
        "#   --data '{\n",
        "#     \"messages\": [\n",
        "#       {\n",
        "#         \"role\": \"user\",\n",
        "#         \"content\": \"What is the current update on the India China meetings?\"\n",
        "#       }\n",
        "#     ]\n",
        "# }'\n",
        "# # Terminate the process after completion\n",
        "# pkill -9 nat"
      ]
    },
    {
      "cell_type": "code",
      "execution_count": 14,
      "id": "BkxWl6sWUAU2",
      "metadata": {
        "id": "BkxWl6sWUAU2",
        "colab": {
          "base_uri": "https://localhost:8080/"
        },
        "outputId": "a52c7ec8-cb38-4972-83a9-735c51a95354"
      },
      "outputs": [
        {
          "output_type": "stream",
          "name": "stdout",
          "text": [
            "{\"id\":\"0958aab6-d636-4f52-9827-94a902d1c892\",\"object\":\"chat.completion\",\"model\":\"\",\"created\":1759482070,\"choices\":[{\"message\":{\"content\":\"The current update on the India China meetings is that the two countries are moving towards normalizing their relations, with agreements to resume direct flights, reopen border trade routes, and establish new border-related mechanisms. They have also agreed to strengthen communication and cooperation in multilateral fora to safeguard the common interests of developing countries.\",\"role\":null},\"delta\":null,\"finish_reason\":\"stop\",\"index\":0}],\"usage\":{\"prompt_tokens\":0,\"completion_tokens\":54,\"total_tokens\":54},\"system_fingerprint\":null,\"service_tier\":null}"
          ]
        },
        {
          "output_type": "stream",
          "name": "stderr",
          "text": [
            "  % Total    % Received % Xferd  Average Speed   Time    Time     Time  Current\n",
            "                                 Dload  Upload   Total   Spent    Left  Speed\n",
            "\r  0     0    0     0    0     0      0      0 --:--:-- --:--:-- --:--:--     0\r100   144    0     0  100   144      0    119  0:00:01  0:00:01 --:--:--   119\r100   144    0     0  100   144      0     65  0:00:02  0:00:02 --:--:--    65\r100   144    0     0  100   144      0     44  0:00:03  0:00:03 --:--:--    44\r100   144    0     0  100   144      0     34  0:00:04  0:00:04 --:--:--    34\r100   144    0     0  100   144      0     27  0:00:05  0:00:05 --:--:--    27\r100   144    0     0  100   144      0     23  0:00:06  0:00:06 --:--:--     0\r100   144    0     0  100   144      0     19  0:00:07  0:00:07 --:--:--     0\r100   144    0     0  100   144      0     17  0:00:08  0:00:08 --:--:--     0\r100   144    0     0  100   144      0     15  0:00:09  0:00:09 --:--:--     0\r100   144    0     0  100   144      0     14  0:00:10  0:00:10 --:--:--     0\r100   144    0     0  100   144      0     12  0:00:12  0:00:11  0:00:01     0\r 17   841    0     0  100   144      0     12  0:00:12  0:00:11  0:00:01     0\r100   841  100   697  100   144     58     12  0:00:12  0:00:11  0:00:01   185\n"
          ]
        }
      ],
      "source": [
        "%%bash --bg\n",
        "# Issue a request to the background service\n",
        "curl --request POST \\\n",
        "  --url http://localhost:8000/chat \\\n",
        "  --header 'Content-Type: application/json' \\\n",
        "  --data '{\n",
        "    \"messages\": [\n",
        "      {\n",
        "        \"role\": \"user\",\n",
        "        \"content\": \"What is the current update on the India China meetings?\"\n",
        "      }\n",
        "    ]\n",
        "}'"
      ]
    },
    {
      "cell_type": "code",
      "source": [
        "%%bash\n",
        "pkill -9 nat"
      ],
      "metadata": {
        "id": "EZnDArKnTZWU"
      },
      "id": "EZnDArKnTZWU",
      "execution_count": 16,
      "outputs": []
    },
    {
      "cell_type": "code",
      "source": [],
      "metadata": {
        "id": "_Xuy1k-8Thgj"
      },
      "id": "_Xuy1k-8Thgj",
      "execution_count": null,
      "outputs": []
    }
  ],
  "metadata": {
    "colab": {
      "provenance": []
    },
    "kernelspec": {
      "display_name": ".venv",
      "language": "python",
      "name": "python3"
    },
    "language_info": {
      "codemirror_mode": {
        "name": "ipython",
        "version": 3
      },
      "file_extension": ".py",
      "mimetype": "text/x-python",
      "name": "python",
      "nbconvert_exporter": "python",
      "pygments_lexer": "ipython3",
      "version": "3.12.2"
    }
  },
  "nbformat": 4,
  "nbformat_minor": 5
}